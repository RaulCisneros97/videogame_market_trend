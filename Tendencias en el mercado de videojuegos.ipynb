{
 "cells": [
  {
   "cell_type": "code",
   "execution_count": 1,
   "metadata": {},
   "outputs": [],
   "source": [
    "#Importación de librerias\n",
    "import pandas as pd\n",
    "import numpy as np\n",
    "import math as mt\n",
    "from scipy import stats as st\n",
    "from matplotlib import pyplot as plt\n"
   ]
  },
  {
   "cell_type": "code",
   "execution_count": 3,
   "metadata": {},
   "outputs": [],
   "source": [
    "#Importación del dataset\n",
    "df=pd.read_csv('games.csv')"
   ]
  },
  {
   "cell_type": "markdown",
   "metadata": {},
   "source": [
    "#### Paso 2: Prepara los datos"
   ]
  },
  {
   "cell_type": "code",
   "execution_count": 4,
   "metadata": {
    "scrolled": true
   },
   "outputs": [
    {
     "name": "stdout",
     "output_type": "stream",
     "text": [
      "<class 'pandas.core.frame.DataFrame'>\n",
      "<class 'pandas.core.frame.DataFrame'>\n",
      "RangeIndex: 16715 entries, 0 to 16714\n",
      "Data columns (total 11 columns):\n",
      " #   Column           Non-Null Count  Dtype  \n",
      "---  ------           --------------  -----  \n",
      " 0   Name             16713 non-null  object \n",
      " 1   Platform         16715 non-null  object \n",
      " 2   Year_of_Release  16446 non-null  float64\n",
      " 3   Genre            16713 non-null  object \n",
      " 4   NA_sales         16715 non-null  float64\n",
      " 5   EU_sales         16715 non-null  float64\n",
      " 6   JP_sales         16715 non-null  float64\n",
      " 7   Other_sales      16715 non-null  float64\n",
      " 8   Critic_Score     8137 non-null   float64\n",
      " 9   User_Score       10014 non-null  object \n",
      " 10  Rating           9949 non-null   object \n",
      "dtypes: float64(6), object(5)\n",
      "memory usage: 1.4+ MB\n",
      "None\n",
      "                       Name Platform  Year_of_Release         Genre  NA_sales  \\\n",
      "0                Wii Sports      Wii           2006.0        Sports     41.36   \n",
      "1         Super Mario Bros.      NES           1985.0      Platform     29.08   \n",
      "2            Mario Kart Wii      Wii           2008.0        Racing     15.68   \n",
      "3         Wii Sports Resort      Wii           2009.0        Sports     15.61   \n",
      "4  Pokemon Red/Pokemon Blue       GB           1996.0  Role-Playing     11.27   \n",
      "\n",
      "   EU_sales  JP_sales  Other_sales  Critic_Score User_Score Rating  \n",
      "0     28.96      3.77         8.45          76.0          8      E  \n",
      "1      3.58      6.81         0.77           NaN        NaN    NaN  \n",
      "2     12.76      3.79         3.29          82.0        8.3      E  \n",
      "3     10.93      3.28         2.95          80.0          8      E  \n",
      "4      8.89     10.22         1.00           NaN        NaN    NaN  \n"
     ]
    }
   ],
   "source": [
    "#Análisis de la estructura del dataset\n",
    "print(type(df))\n",
    "print(df.info())\n",
    "print(df.head())"
   ]
  },
  {
   "cell_type": "code",
   "execution_count": 5,
   "metadata": {},
   "outputs": [
    {
     "name": "stdout",
     "output_type": "stream",
     "text": [
      "Index(['Name', 'Platform', 'Year_of_Release', 'Genre', 'NA_sales', 'EU_sales',\n",
      "       'JP_sales', 'Other_sales', 'Critic_Score', 'User_Score', 'Rating'],\n",
      "      dtype='object')\n",
      "Index(['name', 'platform', 'year_of_release', 'genre', 'na_sales', 'eu_sales',\n",
      "       'jp_sales', 'other_sales', 'critic_score', 'user_score', 'rating'],\n",
      "      dtype='object')\n"
     ]
    }
   ],
   "source": [
    "#Reemplazo de nombres de columnas\n",
    "print(df.columns)\n",
    "\n",
    "new_columns = []\n",
    "\n",
    "for old_name in df.columns:\n",
    "    name_lowered = old_name.lower()\n",
    "    new_columns.append(name_lowered)\n",
    "\n",
    "df.columns = new_columns\n",
    "print(df.columns)"
   ]
  },
  {
   "cell_type": "code",
   "execution_count": 6,
   "metadata": {},
   "outputs": [
    {
     "name": "stdout",
     "output_type": "stream",
     "text": [
      "      name platform  year_of_release genre  na_sales  eu_sales  jp_sales  \\\n",
      "659    NaN      GEN           1993.0   NaN      1.78      0.53      0.00   \n",
      "14244  NaN      GEN           1993.0   NaN      0.00      0.00      0.03   \n",
      "\n",
      "       other_sales  critic_score user_score rating  \n",
      "659           0.08           NaN        NaN    NaN  \n",
      "14244         0.00           NaN        NaN    NaN  \n",
      "                           name platform  year_of_release     genre  na_sales  \\\n",
      "183             Madden NFL 2004      PS2              NaN    Sports      4.26   \n",
      "377            FIFA Soccer 2004      PS2              NaN    Sports      0.59   \n",
      "456  LEGO Batman: The Videogame      Wii              NaN    Action      1.80   \n",
      "475  wwe Smackdown vs. Raw 2006      PS2              NaN  Fighting      1.57   \n",
      "609              Space Invaders     2600              NaN   Shooter      2.36   \n",
      "\n",
      "     eu_sales  jp_sales  other_sales  critic_score user_score rating  \n",
      "183      0.26      0.01         0.71          94.0        8.5      E  \n",
      "377      2.36      0.04         0.51          84.0        6.4      E  \n",
      "456      0.97      0.00         0.29          74.0        7.9   E10+  \n",
      "475      1.02      0.00         0.41           NaN        NaN    NaN  \n",
      "609      0.14      0.00         0.03           NaN        NaN    NaN  \n"
     ]
    }
   ],
   "source": [
    "#Manejo de valores ausentes en el dataset\n",
    "\n",
    "#Revisamos aquellas columnas con valores ausentes para las columnas 'name' y 'genre'\n",
    "print(df[df['genre'].isna()])\n",
    "print(df[df['year_of_release'].isna()].head())"
   ]
  },
  {
   "cell_type": "code",
   "execution_count": 7,
   "metadata": {},
   "outputs": [
    {
     "name": "stdout",
     "output_type": "stream",
     "text": [
      "<class 'pandas.core.frame.DataFrame'>\n",
      "RangeIndex: 16715 entries, 0 to 16714\n",
      "Data columns (total 11 columns):\n",
      " #   Column           Non-Null Count  Dtype  \n",
      "---  ------           --------------  -----  \n",
      " 0   name             16715 non-null  object \n",
      " 1   platform         16715 non-null  object \n",
      " 2   year_of_release  16446 non-null  float64\n",
      " 3   genre            16715 non-null  object \n",
      " 4   na_sales         16715 non-null  float64\n",
      " 5   eu_sales         16715 non-null  float64\n",
      " 6   jp_sales         16715 non-null  float64\n",
      " 7   other_sales      16715 non-null  float64\n",
      " 8   critic_score     8137 non-null   float64\n",
      " 9   user_score       10014 non-null  object \n",
      " 10  rating           9949 non-null   object \n",
      "dtypes: float64(6), object(5)\n",
      "memory usage: 1.4+ MB\n",
      "None\n"
     ]
    },
    {
     "name": "stderr",
     "output_type": "stream",
     "text": [
      "C:\\Users\\jrcis\\AppData\\Local\\Temp\\ipykernel_8660\\2201420634.py:2: FutureWarning: A value is trying to be set on a copy of a DataFrame or Series through chained assignment using an inplace method.\n",
      "The behavior will change in pandas 3.0. This inplace method will never work because the intermediate object on which we are setting values always behaves as a copy.\n",
      "\n",
      "For example, when doing 'df[col].method(value, inplace=True)', try using 'df.method({col: value}, inplace=True)' or df[col] = df[col].method(value) instead, to perform the operation inplace on the original object.\n",
      "\n",
      "\n",
      "  df['name'].fillna('Unknown',inplace=True)\n",
      "C:\\Users\\jrcis\\AppData\\Local\\Temp\\ipykernel_8660\\2201420634.py:3: FutureWarning: A value is trying to be set on a copy of a DataFrame or Series through chained assignment using an inplace method.\n",
      "The behavior will change in pandas 3.0. This inplace method will never work because the intermediate object on which we are setting values always behaves as a copy.\n",
      "\n",
      "For example, when doing 'df[col].method(value, inplace=True)', try using 'df.method({col: value}, inplace=True)' or df[col] = df[col].method(value) instead, to perform the operation inplace on the original object.\n",
      "\n",
      "\n",
      "  df['genre'].fillna('Unknown',inplace=True)\n"
     ]
    }
   ],
   "source": [
    "#Al no conocer el nombre del videojuego y la categoria, mejor reemplazamos valores ausentes por 'Unknown' para crear una variable categórica\n",
    "df['name'].fillna('Unknown',inplace=True)\n",
    "df['genre'].fillna('Unknown',inplace=True)\n",
    "print(df.info())"
   ]
  },
  {
   "cell_type": "markdown",
   "metadata": {},
   "source": [
    "Hemos podido identificar que tanto 'name' y 'genre' tienen la misma cantidad de filas con valores ausentes, y estas filas corresponden a videojuegos que desconocemos su nombre y genero. No las podemos eliminar dado que si contamos con el resto de su información. Al ver que tanto 'genre' y 'name' son columnas tipo 'object' y categoricas, optamos por renombrarlas. En vez de que sean NaN, las podemos renombrar por 'Unknow', asi tenemos una nueva categoria de videojuego"
   ]
  },
  {
   "cell_type": "code",
   "execution_count": 8,
   "metadata": {},
   "outputs": [
    {
     "name": "stdout",
     "output_type": "stream",
     "text": [
      "<class 'pandas.core.frame.DataFrame'>\n",
      "RangeIndex: 16715 entries, 0 to 16714\n",
      "Data columns (total 11 columns):\n",
      " #   Column           Non-Null Count  Dtype  \n",
      "---  ------           --------------  -----  \n",
      " 0   name             16715 non-null  object \n",
      " 1   platform         16715 non-null  object \n",
      " 2   year_of_release  16715 non-null  object \n",
      " 3   genre            16715 non-null  object \n",
      " 4   na_sales         16715 non-null  float64\n",
      " 5   eu_sales         16715 non-null  float64\n",
      " 6   jp_sales         16715 non-null  float64\n",
      " 7   other_sales      16715 non-null  float64\n",
      " 8   critic_score     8137 non-null   float64\n",
      " 9   user_score       10014 non-null  object \n",
      " 10  rating           9949 non-null   object \n",
      "dtypes: float64(5), object(6)\n",
      "memory usage: 1.4+ MB\n",
      "None\n"
     ]
    },
    {
     "name": "stderr",
     "output_type": "stream",
     "text": [
      "C:\\Users\\jrcis\\AppData\\Local\\Temp\\ipykernel_8660\\3812742049.py:5: FutureWarning: A value is trying to be set on a copy of a DataFrame or Series through chained assignment using an inplace method.\n",
      "The behavior will change in pandas 3.0. This inplace method will never work because the intermediate object on which we are setting values always behaves as a copy.\n",
      "\n",
      "For example, when doing 'df[col].method(value, inplace=True)', try using 'df.method({col: value}, inplace=True)' or df[col] = df[col].method(value) instead, to perform the operation inplace on the original object.\n",
      "\n",
      "\n",
      "  df['year_of_release'].fillna('0',inplace=True)\n",
      "C:\\Users\\jrcis\\AppData\\Local\\Temp\\ipykernel_8660\\3812742049.py:5: FutureWarning: Setting an item of incompatible dtype is deprecated and will raise an error in a future version of pandas. Value '0' has dtype incompatible with float64, please explicitly cast to a compatible dtype first.\n",
      "  df['year_of_release'].fillna('0',inplace=True)\n"
     ]
    }
   ],
   "source": [
    "#La siguiente columna con valores ausentes es 'year of release' y además deseamos cambiar su tipo de dato de float64 a int 64\n",
    "#dado que no tenemos porciones de años, por lo tanto todos los datos son enteros\n",
    "#Dado que el método astype no puede convertir celdas con valores ausentes, rellenamos esas celdas con cero\n",
    "\n",
    "df['year_of_release'].fillna('0',inplace=True)\n",
    "print(df.info())"
   ]
  },
  {
   "cell_type": "code",
   "execution_count": 9,
   "metadata": {},
   "outputs": [
    {
     "name": "stdout",
     "output_type": "stream",
     "text": [
      "<class 'pandas.core.frame.DataFrame'>\n",
      "RangeIndex: 16715 entries, 0 to 16714\n",
      "Data columns (total 11 columns):\n",
      " #   Column           Non-Null Count  Dtype  \n",
      "---  ------           --------------  -----  \n",
      " 0   name             16715 non-null  object \n",
      " 1   platform         16715 non-null  object \n",
      " 2   year_of_release  16715 non-null  int64  \n",
      " 3   genre            16715 non-null  object \n",
      " 4   na_sales         16715 non-null  float64\n",
      " 5   eu_sales         16715 non-null  float64\n",
      " 6   jp_sales         16715 non-null  float64\n",
      " 7   other_sales      16715 non-null  float64\n",
      " 8   critic_score     8137 non-null   float64\n",
      " 9   user_score       10014 non-null  object \n",
      " 10  rating           9949 non-null   object \n",
      "dtypes: float64(5), int64(1), object(5)\n",
      "memory usage: 1.4+ MB\n",
      "None\n"
     ]
    }
   ],
   "source": [
    "#Convertimos tipos de datos necesarios para el análisis\n",
    "df['year_of_release']=df['year_of_release'].astype(int)\n",
    "print(df.info())"
   ]
  },
  {
   "cell_type": "markdown",
   "metadata": {},
   "source": [
    "Para la columna 'year_of_release', vamos a reemplazar los valores ausentes por 0, ya que no buscamos hacer operaciones aritmeticas con esta columna, más adelante funcionará como variable categorica. Sin embargo, necesitamos reemplazar los NaN por algún número,para después transformar la columna en 'int'. Conclusión, si queremos rellenar los valores ausentes de'year of release', no nos sirve rellenando con la media o mediana, si no con un valor numérico como 0"
   ]
  },
  {
   "cell_type": "code",
   "execution_count": 10,
   "metadata": {},
   "outputs": [
    {
     "name": "stdout",
     "output_type": "stream",
     "text": [
      "user_score\n",
      "NaN    6701\n",
      "tbd    2424\n",
      "7.8     324\n",
      "8       290\n",
      "8.2     282\n",
      "       ... \n",
      "1.3       2\n",
      "1         2\n",
      "0.9       2\n",
      "0         1\n",
      "9.7       1\n",
      "Name: count, Length: 97, dtype: int64\n",
      "                                name platform  year_of_release         genre  \\\n",
      "1                  Super Mario Bros.      NES             1985      Platform   \n",
      "4           Pokemon Red/Pokemon Blue       GB             1996  Role-Playing   \n",
      "5                             Tetris       GB             1989        Puzzle   \n",
      "9                          Duck Hunt      NES             1984       Shooter   \n",
      "10                        Nintendogs       DS             2005    Simulation   \n",
      "...                              ...      ...              ...           ...   \n",
      "16710  Samurai Warriors: Sanada Maru      PS3             2016        Action   \n",
      "16711               LMA Manager 2007     X360             2006        Sports   \n",
      "16712        Haitaka no Psychedelica      PSV             2016     Adventure   \n",
      "16713               Spirits & Spells      GBA             2003      Platform   \n",
      "16714            Winning Post 8 2016      PSV             2016    Simulation   \n",
      "\n",
      "       na_sales  eu_sales  jp_sales  other_sales  critic_score user_score  \\\n",
      "1         29.08      3.58      6.81         0.77           NaN        NaN   \n",
      "4         11.27      8.89     10.22         1.00           NaN        NaN   \n",
      "5         23.20      2.26      4.22         0.58           NaN        NaN   \n",
      "9         26.93      0.63      0.28         0.47           NaN        NaN   \n",
      "10         9.05     10.95      1.93         2.74           NaN        NaN   \n",
      "...         ...       ...       ...          ...           ...        ...   \n",
      "16710      0.00      0.00      0.01         0.00           NaN        NaN   \n",
      "16711      0.00      0.01      0.00         0.00           NaN        NaN   \n",
      "16712      0.00      0.00      0.01         0.00           NaN        NaN   \n",
      "16713      0.01      0.00      0.00         0.00           NaN        NaN   \n",
      "16714      0.00      0.00      0.01         0.00           NaN        NaN   \n",
      "\n",
      "      rating  \n",
      "1        NaN  \n",
      "4        NaN  \n",
      "5        NaN  \n",
      "9        NaN  \n",
      "10       NaN  \n",
      "...      ...  \n",
      "16710    NaN  \n",
      "16711    NaN  \n",
      "16712    NaN  \n",
      "16713    NaN  \n",
      "16714    NaN  \n",
      "\n",
      "[6701 rows x 11 columns]\n"
     ]
    }
   ],
   "source": [
    "#Vamos a analizar la columna de 'user_score', que es otra columna con valores ausentes\n",
    "print(df['user_score'].value_counts(dropna=False))\n",
    "df_user_null=df[df['user_score'].isna()]\n",
    "print(df_user_null)"
   ]
  },
  {
   "cell_type": "markdown",
   "metadata": {},
   "source": [
    "Tenemos 6701 valores ausentes y 2424 valores con el str 'TBD', sin embargo necesitamos cambiar el tipo de la columna de object a float. Dado que las celdas con 'TBD' no nos dan ninguna información valiosa para el análisis, las podemos reemplazar con NaN y poder transformar la columna a tipo float64"
   ]
  },
  {
   "cell_type": "code",
   "execution_count": 11,
   "metadata": {},
   "outputs": [
    {
     "name": "stdout",
     "output_type": "stream",
     "text": [
      "<class 'pandas.core.frame.DataFrame'>\n",
      "RangeIndex: 16715 entries, 0 to 16714\n",
      "Data columns (total 11 columns):\n",
      " #   Column           Non-Null Count  Dtype  \n",
      "---  ------           --------------  -----  \n",
      " 0   name             16715 non-null  object \n",
      " 1   platform         16715 non-null  object \n",
      " 2   year_of_release  16715 non-null  int64  \n",
      " 3   genre            16715 non-null  object \n",
      " 4   na_sales         16715 non-null  float64\n",
      " 5   eu_sales         16715 non-null  float64\n",
      " 6   jp_sales         16715 non-null  float64\n",
      " 7   other_sales      16715 non-null  float64\n",
      " 8   critic_score     8137 non-null   float64\n",
      " 9   user_score       7590 non-null   float64\n",
      " 10  rating           9949 non-null   object \n",
      "dtypes: float64(6), int64(1), object(4)\n",
      "memory usage: 1.4+ MB\n",
      "None\n"
     ]
    }
   ],
   "source": [
    "#Transformamos columna user_score de object a float usando el metodo to_numeric para que igual reemplace las celdas con \n",
    "#valores 'TBD' por NaN\n",
    "\n",
    "df['user_score']=pd.to_numeric(df['user_score'], errors='coerce')\n",
    "print(df.info())"
   ]
  },
  {
   "cell_type": "code",
   "execution_count": 12,
   "metadata": {},
   "outputs": [
    {
     "name": "stdout",
     "output_type": "stream",
     "text": [
      "rating\n",
      "NaN     6766\n",
      "E       3990\n",
      "T       2961\n",
      "M       1563\n",
      "E10+    1420\n",
      "EC         8\n",
      "K-A        3\n",
      "RP         3\n",
      "AO         1\n",
      "Name: count, dtype: int64\n"
     ]
    }
   ],
   "source": [
    "#Vamos a analizar la columna 'rating' que igual tiene valores ausentes\n",
    "\n",
    "df['rating'].unique()\n",
    "print(df['rating'].value_counts(dropna=False))"
   ]
  },
  {
   "cell_type": "markdown",
   "metadata": {},
   "source": [
    "Al ser una columna con valores categoricos, que es la clasificación del ESRB, el que sea tipo object es correcto. Sin embargo, tenemos 6766 valores nulos para esta columna con datos categoricos, considero es necesario asignarle un nombre 'Unknown' a estas caldas con valores ausentes. Antes de hacerlo, seria bueno imprimir algunas filas donde NaN sea el valor para 'Rating' y ver si identificamos algun patron para esas filas"
   ]
  },
  {
   "cell_type": "code",
   "execution_count": 13,
   "metadata": {
    "scrolled": false
   },
   "outputs": [
    {
     "name": "stdout",
     "output_type": "stream",
     "text": [
      "                                name platform  year_of_release         genre  \\\n",
      "1                  Super Mario Bros.      NES             1985      Platform   \n",
      "4           Pokemon Red/Pokemon Blue       GB             1996  Role-Playing   \n",
      "5                             Tetris       GB             1989        Puzzle   \n",
      "9                          Duck Hunt      NES             1984       Shooter   \n",
      "10                        Nintendogs       DS             2005    Simulation   \n",
      "...                              ...      ...              ...           ...   \n",
      "16710  Samurai Warriors: Sanada Maru      PS3             2016        Action   \n",
      "16711               LMA Manager 2007     X360             2006        Sports   \n",
      "16712        Haitaka no Psychedelica      PSV             2016     Adventure   \n",
      "16713               Spirits & Spells      GBA             2003      Platform   \n",
      "16714            Winning Post 8 2016      PSV             2016    Simulation   \n",
      "\n",
      "       na_sales  eu_sales  jp_sales  other_sales  critic_score  user_score  \\\n",
      "1         29.08      3.58      6.81         0.77           NaN         NaN   \n",
      "4         11.27      8.89     10.22         1.00           NaN         NaN   \n",
      "5         23.20      2.26      4.22         0.58           NaN         NaN   \n",
      "9         26.93      0.63      0.28         0.47           NaN         NaN   \n",
      "10         9.05     10.95      1.93         2.74           NaN         NaN   \n",
      "...         ...       ...       ...          ...           ...         ...   \n",
      "16710      0.00      0.00      0.01         0.00           NaN         NaN   \n",
      "16711      0.00      0.01      0.00         0.00           NaN         NaN   \n",
      "16712      0.00      0.00      0.01         0.00           NaN         NaN   \n",
      "16713      0.01      0.00      0.00         0.00           NaN         NaN   \n",
      "16714      0.00      0.00      0.01         0.00           NaN         NaN   \n",
      "\n",
      "      rating  \n",
      "1        NaN  \n",
      "4        NaN  \n",
      "5        NaN  \n",
      "9        NaN  \n",
      "10       NaN  \n",
      "...      ...  \n",
      "16710    NaN  \n",
      "16711    NaN  \n",
      "16712    NaN  \n",
      "16713    NaN  \n",
      "16714    NaN  \n",
      "\n",
      "[6766 rows x 11 columns]\n",
      "critic_score\n",
      "NaN     6683\n",
      "62.0       5\n",
      "66.0       5\n",
      "70.0       4\n",
      "65.0       4\n",
      "75.0       4\n",
      "80.0       4\n",
      "86.0       3\n",
      "77.0       3\n",
      "72.0       3\n",
      "76.0       3\n",
      "46.0       3\n",
      "68.0       3\n",
      "82.0       3\n",
      "54.0       2\n",
      "87.0       2\n",
      "43.0       2\n",
      "79.0       2\n",
      "69.0       2\n",
      "71.0       2\n",
      "83.0       2\n",
      "60.0       2\n",
      "63.0       2\n",
      "74.0       2\n",
      "88.0       1\n",
      "85.0       1\n",
      "48.0       1\n",
      "47.0       1\n",
      "93.0       1\n",
      "59.0       1\n",
      "55.0       1\n",
      "78.0       1\n",
      "53.0       1\n",
      "64.0       1\n",
      "61.0       1\n",
      "84.0       1\n",
      "45.0       1\n",
      "31.0       1\n",
      "67.0       1\n",
      "50.0       1\n",
      "Name: count, dtype: int64\n",
      "user_score\n",
      "NaN    6680\n",
      "8.3       7\n",
      "7.5       5\n",
      "8.0       4\n",
      "8.2       4\n",
      "6.7       3\n",
      "6.1       3\n",
      "7.9       3\n",
      "8.6       3\n",
      "6.4       3\n",
      "5.8       3\n",
      "7.1       3\n",
      "7.7       3\n",
      "6.0       2\n",
      "7.8       2\n",
      "7.6       2\n",
      "8.7       2\n",
      "8.4       2\n",
      "7.2       2\n",
      "5.0       2\n",
      "6.9       2\n",
      "8.1       2\n",
      "4.8       2\n",
      "6.8       2\n",
      "4.5       2\n",
      "7.3       2\n",
      "9.2       1\n",
      "4.3       1\n",
      "4.1       1\n",
      "4.4       1\n",
      "8.8       1\n",
      "7.4       1\n",
      "7.0       1\n",
      "4.9       1\n",
      "4.0       1\n",
      "5.2       1\n",
      "6.5       1\n",
      "6.2       1\n",
      "8.5       1\n",
      "4.7       1\n",
      "3.2       1\n",
      "3.1       1\n",
      "Name: count, dtype: int64\n"
     ]
    }
   ],
   "source": [
    "df_rating_null=df[df['rating'].isna()]\n",
    "print(df_rating_null)\n",
    "print(df_rating_null['critic_score'].value_counts(dropna=False))\n",
    "print(df_rating_null['user_score'].value_counts(dropna=False))"
   ]
  },
  {
   "cell_type": "code",
   "execution_count": 14,
   "metadata": {},
   "outputs": [
    {
     "name": "stdout",
     "output_type": "stream",
     "text": [
      "<class 'pandas.core.frame.DataFrame'>\n",
      "RangeIndex: 16715 entries, 0 to 16714\n",
      "Data columns (total 11 columns):\n",
      " #   Column           Non-Null Count  Dtype  \n",
      "---  ------           --------------  -----  \n",
      " 0   name             16715 non-null  object \n",
      " 1   platform         16715 non-null  object \n",
      " 2   year_of_release  16715 non-null  int64  \n",
      " 3   genre            16715 non-null  object \n",
      " 4   na_sales         16715 non-null  float64\n",
      " 5   eu_sales         16715 non-null  float64\n",
      " 6   jp_sales         16715 non-null  float64\n",
      " 7   other_sales      16715 non-null  float64\n",
      " 8   critic_score     8137 non-null   float64\n",
      " 9   user_score       7590 non-null   float64\n",
      " 10  rating           16715 non-null  object \n",
      "dtypes: float64(6), int64(1), object(4)\n",
      "memory usage: 1.4+ MB\n",
      "None\n"
     ]
    },
    {
     "name": "stderr",
     "output_type": "stream",
     "text": [
      "C:\\Users\\jrcis\\AppData\\Local\\Temp\\ipykernel_8660\\1421969713.py:3: FutureWarning: A value is trying to be set on a copy of a DataFrame or Series through chained assignment using an inplace method.\n",
      "The behavior will change in pandas 3.0. This inplace method will never work because the intermediate object on which we are setting values always behaves as a copy.\n",
      "\n",
      "For example, when doing 'df[col].method(value, inplace=True)', try using 'df.method({col: value}, inplace=True)' or df[col] = df[col].method(value) instead, to perform the operation inplace on the original object.\n",
      "\n",
      "\n",
      "  df['rating'].fillna('Unknown', inplace=True)\n"
     ]
    }
   ],
   "source": [
    "#Reemplazamos por 'unknown' los valores ausentes en la columna 'rating'\n",
    "\n",
    "df['rating'].fillna('Unknown', inplace=True)\n",
    "print(df.info())"
   ]
  },
  {
   "cell_type": "markdown",
   "metadata": {},
   "source": [
    "No se ve algun patron o tendencia con los valores ausentes de 'Rating' por lo que los vamos a renombrar con Unknown. Lo unico interesante es que, para las 6766 celdas con valores ausentes en rating, 6683 también lo son para 'critic_score' y 6680 también lo son para 'user_score'. Por ahora no vamos a eliminarlas ni rellenarlas, las vamos a dejar asi y posteriormente en el análisis, juagremos con estas celdas a como sea convenientes pero es importante no hacer modificaciones ahorita para no perder información que peuda ser valiosa."
   ]
  },
  {
   "cell_type": "markdown",
   "metadata": {},
   "source": [
    "Ahora ya tenemos nuestro dataset con unicamente dos columnas con valores ausentes, las dos columnas corresponden a aquellas que reflejan los puntajes de los videojuegos. Más adelante en el análisis, veremos si es conveniente o no, manipular esas filas con datos ausentes. Por ahora vamos a dejarlo asi."
   ]
  },
  {
   "cell_type": "code",
   "execution_count": 15,
   "metadata": {},
   "outputs": [
    {
     "name": "stdout",
     "output_type": "stream",
     "text": [
      "<class 'pandas.core.frame.DataFrame'>\n",
      "RangeIndex: 16715 entries, 0 to 16714\n",
      "Data columns (total 12 columns):\n",
      " #   Column           Non-Null Count  Dtype  \n",
      "---  ------           --------------  -----  \n",
      " 0   name             16715 non-null  object \n",
      " 1   platform         16715 non-null  object \n",
      " 2   year_of_release  16715 non-null  int64  \n",
      " 3   genre            16715 non-null  object \n",
      " 4   na_sales         16715 non-null  float64\n",
      " 5   eu_sales         16715 non-null  float64\n",
      " 6   jp_sales         16715 non-null  float64\n",
      " 7   other_sales      16715 non-null  float64\n",
      " 8   critic_score     8137 non-null   float64\n",
      " 9   user_score       7590 non-null   float64\n",
      " 10  rating           16715 non-null  object \n",
      " 11  total_sales      16715 non-null  float64\n",
      "dtypes: float64(7), int64(1), object(4)\n",
      "memory usage: 1.5+ MB\n",
      "None\n",
      "                       name platform  year_of_release         genre  na_sales  \\\n",
      "0                Wii Sports      Wii             2006        Sports     41.36   \n",
      "1         Super Mario Bros.      NES             1985      Platform     29.08   \n",
      "2            Mario Kart Wii      Wii             2008        Racing     15.68   \n",
      "3         Wii Sports Resort      Wii             2009        Sports     15.61   \n",
      "4  Pokemon Red/Pokemon Blue       GB             1996  Role-Playing     11.27   \n",
      "\n",
      "   eu_sales  jp_sales  other_sales  critic_score  user_score   rating  \\\n",
      "0     28.96      3.77         8.45          76.0         8.0        E   \n",
      "1      3.58      6.81         0.77           NaN         NaN  Unknown   \n",
      "2     12.76      3.79         3.29          82.0         8.3        E   \n",
      "3     10.93      3.28         2.95          80.0         8.0        E   \n",
      "4      8.89     10.22         1.00           NaN         NaN  Unknown   \n",
      "\n",
      "   total_sales  \n",
      "0        82.54  \n",
      "1        40.24  \n",
      "2        35.52  \n",
      "3        32.77  \n",
      "4        31.38  \n"
     ]
    }
   ],
   "source": [
    "#Por ultimo, agregamos una nueva columna con las ventas totales para cada juego\n",
    "df['total_sales']=df['na_sales']+df['eu_sales']+df['jp_sales']+df['other_sales']\n",
    "print(df.info())\n",
    "print(df.head())"
   ]
  },
  {
   "cell_type": "code",
   "execution_count": 16,
   "metadata": {
    "scrolled": true
   },
   "outputs": [
    {
     "name": "stdout",
     "output_type": "stream",
     "text": [
      "0\n"
     ]
    }
   ],
   "source": [
    "#Confirmamos que no haya habido errores al hacer la suma de las columnas con las ventas\n",
    "print(df['total_sales'].isna().sum())"
   ]
  },
  {
   "cell_type": "markdown",
   "metadata": {},
   "source": [
    "¡Tenemos nuestro data set con los datos limpios y listos para su análisis!"
   ]
  },
  {
   "cell_type": "markdown",
   "metadata": {},
   "source": [
    "### Paso 3 - Análisis de los datos"
   ]
  },
  {
   "cell_type": "code",
   "execution_count": 17,
   "metadata": {},
   "outputs": [
    {
     "name": "stdout",
     "output_type": "stream",
     "text": [
      "year_of_release\n",
      "0        269\n",
      "1980       9\n",
      "1981      46\n",
      "1982      36\n",
      "1983      17\n",
      "1984      14\n",
      "1985      14\n",
      "1986      21\n",
      "1987      16\n",
      "1988      15\n",
      "1989      17\n",
      "1990      16\n",
      "1991      41\n",
      "1992      43\n",
      "1993      62\n",
      "1994     121\n",
      "1995     219\n",
      "1996     263\n",
      "1997     289\n",
      "1998     379\n",
      "1999     338\n",
      "2000     350\n",
      "2001     482\n",
      "2002     829\n",
      "2003     775\n",
      "2004     762\n",
      "2005     939\n",
      "2006    1006\n",
      "2007    1197\n",
      "2008    1427\n",
      "2009    1426\n",
      "2010    1255\n",
      "2011    1136\n",
      "2012     653\n",
      "2013     544\n",
      "2014     581\n",
      "2015     606\n",
      "2016     502\n",
      "Name: name, dtype: int64\n"
     ]
    },
    {
     "data": {
      "image/png": "[encoded data removed]",
      "text/plain": [
       "<Figure size 640x480 with 1 Axes>"
      ]
     },
     "metadata": {},
     "output_type": "display_data"
    }
   ],
   "source": [
    "#Vamos a analizar los videojuegos lanzados al paso de los años\n",
    "\n",
    "df_agr_year=df.groupby('year_of_release')['name'].count()\n",
    "print(df_agr_year)\n",
    "df_agr_year.plot(kind='bar', title='New Videogames within the Modern Age', xlabel='year', ylabel='videogames released')\n",
    "plt.show()"
   ]
  },
  {
   "cell_type": "markdown",
   "metadata": {},
   "source": [
    "Como era de esperarse, desde 1980 que se tiene el registro del primer videojuego lanzado, cada año va aumentando la cantidad de videojuegos, se empieza a ver un incremento significativo en la decada de los 90´s. La decada de los 00´s es el boom para la industria gamer, siendo 2008 y 2009 los años con mayor cantidad de videojuegos lanzados, a partir de 2010 comenzamos a ver una disminución en la cantidad de videojuegos relanzados. Dado que estamos trabajando en la campaña para 2017, tenemos que investigar el porque de esta disminución, ¿Ahora son menos competidores de desarrollo? ¿Varios videojuegos no se han logrado mantener en el mercado? ¿Se acabó la imaginación para desarrollar nuevos juegos? Vamos a investigarlo\n",
    "\n",
    "Por último, tenemos valores en año '0', recordar que renombramos los valores ausentes para la columna 'year of release' para pdoer cambiar el tipo de objeto de esta columna, lo podemos considerar un valor atipico y descartar estos datos."
   ]
  },
  {
   "cell_type": "code",
   "execution_count": 18,
   "metadata": {},
   "outputs": [
    {
     "name": "stdout",
     "output_type": "stream",
     "text": [
      "platform\n",
      "PS2     1255.77\n",
      "X360     971.42\n",
      "PS3      939.65\n",
      "Wii      907.51\n",
      "DS       806.12\n",
      "PS       730.86\n",
      "GBA      317.85\n",
      "PS4      314.14\n",
      "PSP      294.05\n",
      "PC       259.52\n",
      "3DS      259.00\n",
      "XB       257.74\n",
      "GB       255.46\n",
      "NES      251.05\n",
      "N64      218.68\n",
      "SNES     200.04\n",
      "GC       198.93\n",
      "XOne     159.32\n",
      "2600      96.98\n",
      "WiiU      82.19\n",
      "PSV       54.07\n",
      "SAT       33.59\n",
      "GEN       30.77\n",
      "DC        15.95\n",
      "SCD        1.86\n",
      "NG         1.44\n",
      "WS         1.42\n",
      "TG16       0.16\n",
      "3DO        0.10\n",
      "GG         0.04\n",
      "PCFX       0.03\n",
      "Name: total_sales, dtype: float64\n"
     ]
    },
    {
     "data": {
      "image/png": "[encoded data removed]",
      "text/plain": [
       "<Figure size 640x480 with 1 Axes>"
      ]
     },
     "metadata": {},
     "output_type": "display_data"
    }
   ],
   "source": [
    "#Vamos a analizar las ventas por plataformas para poder ver aquellas que siguen vigentes y aquellas que perdieron valor\n",
    "\n",
    "df_agr_platform=df.groupby(['platform'])['total_sales'].sum()\n",
    "df_agr_platform = df_agr_platform.sort_values(ascending=False)\n",
    "print(df_agr_platform)\n",
    "df_agr_platform.plot(kind='bar',title='Which is the most valuable platform?',xlabel='platform',ylabel='total sales $')\n",
    "plt.show()"
   ]
  },
  {
   "cell_type": "markdown",
   "metadata": {},
   "source": [
    "Podemos identificar 6 plataformas que tienen significativamente más ventas que el resto, estas plataformas son: PS2, X360, PS3, Wii, DS y PS. Vamos a quedarnos con estas plataformas para hacer el análisis de sus ventas a lo largo de los años."
   ]
  },
  {
   "cell_type": "code",
   "execution_count": 19,
   "metadata": {},
   "outputs": [
    {
     "name": "stdout",
     "output_type": "stream",
     "text": [
      "platform\n",
      "PS2     1255.77\n",
      "X360     971.42\n",
      "PS3      939.65\n",
      "Wii      907.51\n",
      "DS       806.12\n",
      "PS       730.86\n",
      "Name: total_sales, dtype: float64\n",
      "Index(['PS2', 'X360', 'PS3', 'Wii', 'DS', 'PS'], dtype='object', name='platform')\n",
      "<class 'pandas.core.indexes.base.Index'>\n"
     ]
    }
   ],
   "source": [
    "#Vamos a analizar a las plataformas con la mayor cantidad de ventas\n",
    "df_agr_platform_top=df_agr_platform.head(6)\n",
    "print(df_agr_platform_top)\n",
    "top_platform = df_agr_platform_top.index\n",
    "print(top_platform)\n",
    "print(type(top_platform))"
   ]
  },
  {
   "cell_type": "code",
   "execution_count": 20,
   "metadata": {},
   "outputs": [
    {
     "name": "stdout",
     "output_type": "stream",
     "text": [
      "['Wii' 'DS' 'X360' 'PS3' 'PS2' 'PS']\n",
      "platform             DS      PS     PS2     PS3     Wii    X360\n",
      "year_of_release                                                \n",
      "0                  3.34    3.28   22.21    8.31   16.33   10.18\n",
      "1985               0.02    0.00    0.00    0.00    0.00    0.00\n",
      "1994               0.00    6.03    0.00    0.00    0.00    0.00\n",
      "1995               0.00   35.96    0.00    0.00    0.00    0.00\n",
      "1996               0.00   94.70    0.00    0.00    0.00    0.00\n",
      "1997               0.00  136.17    0.00    0.00    0.00    0.00\n",
      "1998               0.00  169.49    0.00    0.00    0.00    0.00\n",
      "1999               0.00  144.53    0.00    0.00    0.00    0.00\n",
      "2000               0.00   96.37   39.17    0.00    0.00    0.00\n",
      "2001               0.00   35.59  166.43    0.00    0.00    0.00\n",
      "2002               0.00    6.67  205.38    0.00    0.00    0.00\n",
      "2003               0.00    2.07  184.31    0.00    0.00    0.00\n",
      "2004              17.27    0.00  211.81    0.00    0.00    0.00\n",
      "2005             130.14    0.00  160.66    0.00    0.00    8.25\n",
      "2006             119.81    0.00  103.42   20.96  137.15   51.62\n",
      "2007             146.94    0.00   75.99   73.19  152.77   95.41\n",
      "2008             145.31    0.00   53.90  118.52  171.32  135.26\n",
      "2009             119.54    0.00   26.40  130.93  206.97  120.29\n",
      "2010              85.02    0.00    5.64  142.17  127.95  170.03\n",
      "2011              26.18    0.00    0.45  156.78   59.65  143.84\n",
      "2012              11.01    0.00    0.00  107.36   21.71   99.74\n",
      "2013               1.54    0.00    0.00  113.25    8.59   88.58\n",
      "2014               0.00    0.00    0.00   47.76    3.75   34.74\n",
      "2015               0.00    0.00    0.00   16.82    1.14   11.96\n",
      "2016               0.00    0.00    0.00    3.60    0.18    1.52\n"
     ]
    }
   ],
   "source": [
    "#Se crea una tabla pivote con las \n",
    "df_platform=df.query('platform in @top_platform')\n",
    "print(df_platform['platform'].unique())\n",
    "df_pivot=df_platform.pivot_table(index='year_of_release',columns='platform',values='total_sales',aggfunc='sum')\n",
    "df_pivot.fillna(0,inplace=True)\n",
    "print(df_pivot)"
   ]
  },
  {
   "cell_type": "code",
   "execution_count": 21,
   "metadata": {},
   "outputs": [
    {
     "data": {
      "text/plain": [
       "<Axes: title={'center': 'What platforms are still valid?'}, xlabel='year', ylabel='total sales $'>"
      ]
     },
     "execution_count": 21,
     "metadata": {},
     "output_type": "execute_result"
    },
    {
     "data": {
      "image/png": "[encoded data removed]",
      "text/plain": [
       "<Figure size 1000x500 with 1 Axes>"
      ]
     },
     "metadata": {},
     "output_type": "display_data"
    }
   ],
   "source": [
    "#Vamos a constuir las distribuciones de las ventas por plataforma a lo largo de los años\n",
    "\n",
    "df_pivot.plot(kind='bar', figsize=(10,5), title='What platforms are still valid?',xlabel='year',ylabel='total sales $')"
   ]
  },
  {
   "cell_type": "markdown",
   "metadata": {},
   "source": [
    "Conclusiones del gráfico: \n",
    "\n",
    "Durante la decada de los 90´s, la plataforma lider de ventas fue PS y vemos que la competencia no era tan fuerte como lo es ahora. Sin embargo, a partir del 2000, PS2 comenzó a cortar terrenos resecto a PS. Para 2004, PS ya habia desaparecido del mecado y PS2 se encontraba en sus niveles máximos de ventas. A partir de 2005, PS2 comienza a disminuir significativamente por el lanzamiento de nuevas plataformas como DS, PS3, Wii y X360. Estas fueron las plataformas lider durante el periodo entre 2006 y 2010, que es el periodo que igual mayor cantidad de videojuegos se lanzan. Hace sentido dado que es el periodo de tiempo que más opciones de plataformas se tienen en el mercado. DS y Wii disminuyen significativamente a partir de 2011, mientras que X360 y PS3  se mantienen en el mercado pero disminuyendo sus ventas a medida que vamos alcanzando el 2013. Lo utimos dos años 2015 y 2016, X360 y PS3 apenas y se asoman en ventas para estos ultimos años.\n",
    "\n",
    "Vemos como el ciclo de vida en el mercado de cada una de las plataformas sigue una distribución normal, es decir, sigue la forma de una campana. Comienzan a incrementar significativamente hasta que llegan al pico más alto para despupes comenzar a disminuir. Esto se debe a la constante evolución e innovacion en este ambito. \n",
    "\n",
    "Sin embargo, las plataformas que analziamos no tienen mucha presencia en ventas en los ultimmos 3 años, por lo que si nos basamos en estos datos para hacer una campaña, seguramente tendremos malos resultados. Necesitamos analziar el comportamiento de las plataformas con mayor no. de ventas en los ultimso años para poder crear una exitosa campaña para el 2017. De igual forma, los datos de plataformas que incluso han desaparecido como PS, PS2, DS, etc no nos sirve en este momento, asi que podemos prescindir de ellas. Lo mejor sería filtrar nuestro data set a partir del año 2006, que es cuando empiezan a asomarse las plataformas que fueron lideres en el periodo en que más videojuegos se lanzaron, y ya no descartaremos aquellas plataformas que tal vez no figuren en la lista con más ventas pero que probablemente van iniciando su ciclo de vida en el mercado y son las ldieres actualmente en el mismo."
   ]
  },
  {
   "cell_type": "code",
   "execution_count": 22,
   "metadata": {},
   "outputs": [
    {
     "name": "stdout",
     "output_type": "stream",
     "text": [
      "                                 name platform  year_of_release         genre  \\\n",
      "14                 Kinect Adventures!     X360             2010          Misc   \n",
      "16                 Grand Theft Auto V      PS3             2013        Action   \n",
      "23                 Grand Theft Auto V     X360             2013        Action   \n",
      "27        Pokemon Black/Pokemon White       DS             2010  Role-Playing   \n",
      "29     Call of Duty: Modern Warfare 3     X360             2011       Shooter   \n",
      "...                               ...      ...              ...           ...   \n",
      "16703                Strawberry Nauts      PSV             2016     Adventure   \n",
      "16707                Aiyoku no Eustia      PSV             2014          Misc   \n",
      "16710   Samurai Warriors: Sanada Maru      PS3             2016        Action   \n",
      "16712         Haitaka no Psychedelica      PSV             2016     Adventure   \n",
      "16714             Winning Post 8 2016      PSV             2016    Simulation   \n",
      "\n",
      "       na_sales  eu_sales  jp_sales  other_sales  critic_score  user_score  \\\n",
      "14        15.00      4.89      0.24         1.69          61.0         6.3   \n",
      "16         7.02      9.09      0.98         3.96          97.0         8.2   \n",
      "23         9.66      5.14      0.06         1.41          97.0         8.1   \n",
      "27         5.51      3.17      5.65         0.80           NaN         NaN   \n",
      "29         9.04      4.24      0.13         1.32          88.0         3.4   \n",
      "...         ...       ...       ...          ...           ...         ...   \n",
      "16703      0.00      0.00      0.01         0.00           NaN         NaN   \n",
      "16707      0.00      0.00      0.01         0.00           NaN         NaN   \n",
      "16710      0.00      0.00      0.01         0.00           NaN         NaN   \n",
      "16712      0.00      0.00      0.01         0.00           NaN         NaN   \n",
      "16714      0.00      0.00      0.01         0.00           NaN         NaN   \n",
      "\n",
      "        rating  total_sales  \n",
      "14           E        21.82  \n",
      "16           M        21.05  \n",
      "23           M        16.27  \n",
      "27     Unknown        15.13  \n",
      "29           M        14.73  \n",
      "...        ...          ...  \n",
      "16703  Unknown         0.01  \n",
      "16707  Unknown         0.01  \n",
      "16710  Unknown         0.01  \n",
      "16712  Unknown         0.01  \n",
      "16714  Unknown         0.01  \n",
      "\n",
      "[5277 rows x 12 columns]\n"
     ]
    }
   ],
   "source": [
    "#Vamos a analziar el comprotamiento de las ventas por plataforma de 2010 a la actualidad\n",
    "#Filtramos el Dataset con los juegos lanzados a partir de 2010\n",
    "df_actual = df.query(\"year_of_release >= 2010\")\n",
    "print(df_actual)"
   ]
  },
  {
   "cell_type": "code",
   "execution_count": 23,
   "metadata": {},
   "outputs": [
    {
     "name": "stdout",
     "output_type": "stream",
     "text": [
      "platform\n",
      "PS3     889\n",
      "X360    680\n",
      "3DS     512\n",
      "DS      507\n",
      "PSP     500\n",
      "PC      479\n",
      "Wii     450\n",
      "PSV     429\n",
      "PS4     392\n",
      "XOne    247\n",
      "WiiU    147\n",
      "PS2      45\n",
      "Name: count, dtype: int64\n"
     ]
    }
   ],
   "source": [
    "#Imprimimos todas las plataformas que han tenido ventas a partir del 2010\n",
    "print(df_actual['platform'].value_counts())\n"
   ]
  },
  {
   "cell_type": "markdown",
   "metadata": {},
   "source": [
    "Empezamos a ver nombres de plataformas que habiamos descartado en el primer filtrado, vemos nombres como XOne, WiiU, 3DS, etc que son plataformas que tal vez estan comenzando a sustituir a las plataformas con mayor cantidad de ventas en nuestro dataframe como PS4, X360 o Wii. Sigamos con el análisis de encontrar las plataformas lideres en la actualidad"
   ]
  },
  {
   "cell_type": "code",
   "execution_count": 24,
   "metadata": {},
   "outputs": [
    {
     "name": "stdout",
     "output_type": "stream",
     "text": [
      "platform           3DS     DS     PC   PS2     PS3     PS4    PSP    PSV  \\\n",
      "year_of_release                                                            \n",
      "2010               NaN  85.02  24.28  5.64  142.17     NaN  35.04    NaN   \n",
      "2011             63.20  26.18  35.03  0.45  156.78     NaN  17.82   4.63   \n",
      "2012             51.36  11.01  23.22   NaN  107.36     NaN   7.69  16.19   \n",
      "2013             56.57   1.54  12.38   NaN  113.25   25.99   3.14  10.59   \n",
      "2014             43.76    NaN  13.28   NaN   47.76  100.00   0.24  11.90   \n",
      "2015             27.78    NaN   8.52   NaN   16.82  118.90   0.12   6.25   \n",
      "2016             15.14    NaN   5.25   NaN    3.60   69.25    NaN   4.25   \n",
      "\n",
      "platform            Wii   WiiU    X360   XOne  \n",
      "year_of_release                                \n",
      "2010             127.95    NaN  170.03    NaN  \n",
      "2011              59.65    NaN  143.84    NaN  \n",
      "2012              21.71  17.56   99.74    NaN  \n",
      "2013               8.59  21.65   88.58  18.96  \n",
      "2014               3.75  22.03   34.74  54.07  \n",
      "2015               1.14  16.35   11.96  60.14  \n",
      "2016               0.18   4.60    1.52  26.15  \n"
     ]
    }
   ],
   "source": [
    "#Creamos una tabla pivote con las ventas por año por plataforma del 2006 a la actualidad\n",
    "pivot_table_actual=df_actual.pivot_table(index='year_of_release',columns='platform',values='total_sales',aggfunc='sum')\n",
    "print(pivot_table_actual)"
   ]
  },
  {
   "cell_type": "markdown",
   "metadata": {},
   "source": [
    "Si nos enfocamos en los datos de los ultimos dos años, vemos que PS4 ha sido la plataforma lider en ventas, seguido de XOne y por útlimo valdria la pena mencionar a 3DS. Vamos a confirmarlo en nuestro gráfico"
   ]
  },
  {
   "cell_type": "code",
   "execution_count": 25,
   "metadata": {
    "scrolled": true
   },
   "outputs": [
    {
     "data": {
      "image/png": "[encoded data removed]",
      "text/plain": [
       "<Figure size 1200x500 with 1 Axes>"
      ]
     },
     "metadata": {},
     "output_type": "display_data"
    }
   ],
   "source": [
    "pivot_table_actual.plot(kind='bar',figsize=(12,5),title='Currently, What are most popular platforms?',xlabel='year',ylabel='total sales')\n",
    "plt.show()"
   ]
  },
  {
   "cell_type": "markdown",
   "metadata": {},
   "source": [
    "Conclusión del gráfico: Podemos ver los resultados del total de ventas en todas las regiones unicamente del año 2010 a 2016, dado que vimos que plataformas que eran lideres en años anteriores al 2010, ahora simplemente desaparecieron y surgieron alternativas con mejoras de ellas mismas. Del 2010 a 2013, PS3 y X360 son las paltaformas lideres. Sin embargo de 2014 a 2016, comienzan a surgir nuevas alternativas y entre 2014 y 2015 PS4 es la plataforma lider seguido de XOne. Por último, se ve una reducción en todas las plataformas del 2015 al 2016, por lo que habria que considerar lo siguiente: si existen nuevas plataformas que esten comenzando a surgir, si hubo una disminución en la venta de videojuegos y ¿porque? y analizar el comportamiento por región para acotar los resultados."
   ]
  },
  {
   "cell_type": "code",
   "execution_count": 26,
   "metadata": {},
   "outputs": [
    {
     "name": "stdout",
     "output_type": "stream",
     "text": [
      "platform\n",
      "PS4     69.25\n",
      "XOne    26.15\n",
      "3DS     15.14\n",
      "PC       5.25\n",
      "WiiU     4.60\n",
      "PSV      4.25\n",
      "PS3      3.60\n",
      "X360     1.52\n",
      "Wii      0.18\n",
      "Name: total_sales, dtype: float64\n"
     ]
    }
   ],
   "source": [
    "#Imprimimos la información de ventas totales para cada plataforma en el ultimo año para confirmar lo que vemos en el gráfico\n",
    "df_last_two_years = df.query(\"year_of_release == 2016\")\n",
    "df_last_two_years_agr=df_last_two_years.groupby('platform')['total_sales'].sum()\n",
    "print(df_last_two_years_agr.sort_values(ascending=False))"
   ]
  },
  {
   "cell_type": "markdown",
   "metadata": {},
   "source": [
    "Conclusión: La estrategia de mercado del año 2017 deberá contener videojuegos para las plataformas PSS4, XOne y 3DS. "
   ]
  },
  {
   "cell_type": "code",
   "execution_count": 27,
   "metadata": {},
   "outputs": [
    {
     "name": "stdout",
     "output_type": "stream",
     "text": [
      "['PS4', 'XOne', '3DS']\n"
     ]
    }
   ],
   "source": [
    "#Vamos a analizar el comportamiento de ventas para estas 3 plataformas\n",
    "df_top=['PS4','XOne','3DS']\n",
    "print(df_top)\n",
    "#Filtramos el data set original con las filass que tienen ventas de estas unicas tres plataformas\n",
    "df_top_platform=df.query('platform in @df_top')"
   ]
  },
  {
   "cell_type": "code",
   "execution_count": 28,
   "metadata": {},
   "outputs": [
    {
     "name": "stdout",
     "output_type": "stream",
     "text": [
      "La venta total minima de 3DS es de: 0.01\n",
      "La venta total máxima de 3DS es de: 14.6\n",
      "La mediana del total de ventas de 3DS es de: 0.12\n",
      "La media del total de ventas de 3DS es de: 0.4980769230769231\n",
      "La venta total minima de XOne es de: 0.01\n",
      "La venta total máxima de XOne es de: 7.389999999999999\n",
      "La mediana del total de ventas de XOne es de: 0.22\n",
      "La media del total de ventas de XOne es de: 0.6450202429149796\n",
      "La venta total minima de PS4 es de: 0.01\n",
      "La venta total máxima de PS4 es de: 14.629999999999999\n",
      "La mediana del total de ventas de PS4 es de: 0.2\n",
      "La media del total de ventas de PS4 es de: 0.8013775510204081\n"
     ]
    }
   ],
   "source": [
    "#Agrupamos el DF filtrado para obtener las ventas totales por juego por plataforma\n",
    "#Empezamos con 3DS\n",
    "df_top_platform_3DS = df_top_platform.query('platform == \"3DS\" and total_sales > 0')\n",
    "df_top_platform_3DS = df_top_platform_3DS.groupby('name')['total_sales'].sum()\n",
    "#print(df_top_platform_3DS)\n",
    "#Calculamos medidas de estadistica descriptiva para ver la dispersión de los datos\n",
    "print('La venta total minima de 3DS es de:',df_top_platform_3DS.min())\n",
    "print('La venta total máxima de 3DS es de:',df_top_platform_3DS.max())\n",
    "print('La mediana del total de ventas de 3DS es de:',df_top_platform_3DS.median())\n",
    "print('La media del total de ventas de 3DS es de:', df_top_platform_3DS.mean())\n",
    "\n",
    "#Seguimos con XOne\n",
    "df_top_platform_XOne = df_top_platform.query('platform == \"XOne\" and total_sales > 0')\n",
    "df_top_platform_XOne = df_top_platform_XOne.groupby('name')['total_sales'].sum()\n",
    "#print(df_top_platform_XOne)\n",
    "#Calculamos medidas de estadistica descriptiva para ver la dispersión de los datos\n",
    "print('La venta total minima de XOne es de:',df_top_platform_XOne.min())\n",
    "print('La venta total máxima de XOne es de:',df_top_platform_XOne.max())\n",
    "print('La mediana del total de ventas de XOne es de:',df_top_platform_XOne.median())\n",
    "print('La media del total de ventas de XOne es de:',df_top_platform_XOne.mean())\n",
    "\n",
    "#Seguimos con PS4\n",
    "df_top_platform_PS4 = df_top_platform.query('platform == \"PS4\" and total_sales > 0')\n",
    "df_top_platform_PS4 = df_top_platform_PS4.groupby('name')['total_sales'].sum()\n",
    "#print(df_top_platform_PS4)\n",
    "#Calculamos medidas de estadistica descriptiva para ver la dispersión de los datos\n",
    "print('La venta total minima de PS4 es de:',df_top_platform_PS4.min())\n",
    "print('La venta total máxima de PS4 es de:',df_top_platform_PS4.max())\n",
    "print('La mediana del total de ventas de PS4 es de:',df_top_platform_PS4.median())\n",
    "print('La media del total de ventas de PS4 es de:',df_top_platform_PS4.mean())\n"
   ]
  },
  {
   "cell_type": "code",
   "execution_count": 29,
   "metadata": {
    "scrolled": true
   },
   "outputs": [
    {
     "ename": "ModuleNotFoundError",
     "evalue": "No module named 'seaborn'",
     "output_type": "error",
     "traceback": [
      "\u001b[31m---------------------------------------------------------------------------\u001b[39m",
      "\u001b[31mModuleNotFoundError\u001b[39m                       Traceback (most recent call last)",
      "\u001b[36mCell\u001b[39m\u001b[36m \u001b[39m\u001b[32mIn[29]\u001b[39m\u001b[32m, line 3\u001b[39m\n\u001b[32m      1\u001b[39m \u001b[38;5;66;03m#Graficamos el diagrama de caja y bigotes para ver la dispersión de las ventas totales por plataforma\u001b[39;00m\n\u001b[32m      2\u001b[39m \u001b[38;5;66;03m#Graficamos boxplot para plataforma 3DS\u001b[39;00m\n\u001b[32m----> \u001b[39m\u001b[32m3\u001b[39m \u001b[38;5;28;01mimport\u001b[39;00m \u001b[34;01mseaborn\u001b[39;00m \u001b[38;5;28;01mas\u001b[39;00m \u001b[34;01msns\u001b[39;00m\n\u001b[32m      4\u001b[39m sns.boxplot(df_top_platform_3DS)\n",
      "\u001b[31mModuleNotFoundError\u001b[39m: No module named 'seaborn'"
     ]
    }
   ],
   "source": [
    "#Graficamos el diagrama de caja y bigotes para ver la dispersión de las ventas totales por plataforma\n",
    "#Graficamos boxplot para plataforma 3DS\n",
    "import seaborn as sns\n",
    "sns.boxplot(df_top_platform_3DS)\n"
   ]
  },
  {
   "cell_type": "code",
   "execution_count": 29,
   "metadata": {},
   "outputs": [
    {
     "data": {
      "text/plain": [
       "<AxesSubplot:xlabel='total_sales'>"
      ]
     },
     "execution_count": 29,
     "metadata": {},
     "output_type": "execute_result"
    },
    {
     "data": {
      "image/png": "[encoded data removed]",
      "text/plain": [
       "<Figure size 640x480 with 1 Axes>"
      ]
     },
     "metadata": {},
     "output_type": "display_data"
    }
   ],
   "source": [
    "#Graficamos boxplot para plataforma XOne\n",
    "sns.boxplot(df_top_platform_XOne)"
   ]
  },
  {
   "cell_type": "code",
   "execution_count": 30,
   "metadata": {},
   "outputs": [
    {
     "data": {
      "text/plain": [
       "<AxesSubplot:xlabel='total_sales'>"
      ]
     },
     "execution_count": 30,
     "metadata": {},
     "output_type": "execute_result"
    },
    {
     "data": {
      "image/png": "[encoded data removed]",
      "text/plain": [
       "<Figure size 640x480 with 1 Axes>"
      ]
     },
     "metadata": {},
     "output_type": "display_data"
    }
   ],
   "source": [
    "#Graficamos box plot para plataforma PS4\n",
    "sns.boxplot(df_top_platform_PS4)"
   ]
  },
  {
   "cell_type": "markdown",
   "metadata": {},
   "source": [
    "Para las 3 plataformas que elegimos a analizar para la campaña de 2017, vemos que su distribución de ventas totales por videojuego tiene mucha dispersión y lo podemos ver en los graficos Box Plot, se ven varios valores atípicos, al imprimir sus medidas descriptivas vemos que sus datos tienen rangos altos, se tienen registradas ventas de apenas 0.1$ hasta 14$, por ende la diferencia entre mediana y media es significativa. Por ultimo, vemos que el 50% de los juegos (IQR) para las 3 plataformas tienen una venta total de entre 0$ y 1$.\n",
    "\n",
    "Al final esto se traduce en que, hay videojuegos en específicos que se venden mucho más que otros en cada plataforma. Por lo que en la estrategia, se deben de considerar campañas de mercadeo, disponibilidad y promociones para dichos juegos que son más perferidos en el mercado ya que hacen una gran diferencia en el ingreso por videojuegos."
   ]
  },
  {
   "cell_type": "code",
   "execution_count": 30,
   "metadata": {},
   "outputs": [
    {
     "name": "stdout",
     "output_type": "stream",
     "text": [
      "<class 'pandas.core.frame.DataFrame'>\n",
      "Index: 392 entries, 31 to 16585\n",
      "Data columns (total 12 columns):\n",
      " #   Column           Non-Null Count  Dtype  \n",
      "---  ------           --------------  -----  \n",
      " 0   name             392 non-null    object \n",
      " 1   platform         392 non-null    object \n",
      " 2   year_of_release  392 non-null    int64  \n",
      " 3   genre            392 non-null    object \n",
      " 4   na_sales         392 non-null    float64\n",
      " 5   eu_sales         392 non-null    float64\n",
      " 6   jp_sales         392 non-null    float64\n",
      " 7   other_sales      392 non-null    float64\n",
      " 8   critic_score     252 non-null    float64\n",
      " 9   user_score       257 non-null    float64\n",
      " 10  rating           392 non-null    object \n",
      " 11  total_sales      392 non-null    float64\n",
      "dtypes: float64(7), int64(1), object(4)\n",
      "memory usage: 39.8+ KB\n",
      "None\n"
     ]
    }
   ],
   "source": [
    "#Vamos a evaluar la correlación entre las criticas de los videojuegos y sus ventas\n",
    "#Vamos a utilizar como referencia los datos de la plataforma PS3 que es la plataforma que más ventas ha tenido en el útlimo año\n",
    "\n",
    "df_PS4 = df.query('platform == \"PS4\"')\n",
    "print(df_PS4.info())"
   ]
  },
  {
   "cell_type": "code",
   "execution_count": 31,
   "metadata": {},
   "outputs": [
    {
     "name": "stdout",
     "output_type": "stream",
     "text": [
      "El coeficiente de correlación entre las ventas totales de PS4 y el puntaje de CRITICOS de videojuegos es de: 0.4065679020617816\n"
     ]
    },
    {
     "data": {
      "image/png": "[encoded data removed]",
      "text/plain": [
       "<Figure size 640x480 with 1 Axes>"
      ]
     },
     "metadata": {},
     "output_type": "display_data"
    }
   ],
   "source": [
    "critic_score_corr=df_PS4['critic_score'].corr(df_PS4['total_sales'])\n",
    "print('El coeficiente de correlación entre las ventas totales de PS4 y el puntaje de CRITICOS de videojuegos es de:', critic_score_corr)\n",
    "df_PS4.plot(x='critic_score',y='total_sales',kind='scatter',title='How important does CRITIC score is?')\n",
    "plt.show()"
   ]
  },
  {
   "cell_type": "code",
   "execution_count": 32,
   "metadata": {},
   "outputs": [
    {
     "name": "stdout",
     "output_type": "stream",
     "text": [
      "El coeficiente de correlación entre las ventas totales de PS4 y el puntaje de USUARIOS de videojuegos es de: -0.03195711020455643\n"
     ]
    },
    {
     "data": {
      "image/png": "[encoded data removed]",
      "text/plain": [
       "<Figure size 640x480 with 1 Axes>"
      ]
     },
     "metadata": {},
     "output_type": "display_data"
    }
   ],
   "source": [
    "#Ahora toca hacer la correlación entre el puntaje de los usuarios y las ventas de los videojuegos de PS4\n",
    "user_score_corr=df_PS4['user_score'].corr(df_PS4['total_sales'])\n",
    "print('El coeficiente de correlación entre las ventas totales de PS4 y el puntaje de USUARIOS de videojuegos es de:', user_score_corr)\n",
    "df_PS4.plot(x='user_score',y='total_sales',kind='scatter',title='How important does USER score is?')\n",
    "plt.show()"
   ]
  },
  {
   "cell_type": "markdown",
   "metadata": {},
   "source": [
    "Conclusión sobre la correlación: Las reseñas de criticos y las ventas totales de PS4 tienen un coeficiente de correlación de 0.4 (correlación positiva) mientras que el coeficiente de correlación entre la reseña de usuarios y las mismas ventas de PS4 es de -0-03 (casi 0, no existe correlación). Es decir, mientras la reseña de criticos sea mayor, hay mayor probabilidad de que un videojuego lo compren más personas. Por otra parte, la compra de videojuegos no depende de la reseña que tengan los usuarios de los mismos. "
   ]
  },
  {
   "cell_type": "code",
   "execution_count": 33,
   "metadata": {
    "scrolled": true
   },
   "outputs": [
    {
     "name": "stdout",
     "output_type": "stream",
     "text": [
      "El coeficiente de correlación entre las ventas totales de XOne y el puntaje de CRITICOS de videojuegos es de: 0.4169983280084017\n"
     ]
    },
    {
     "data": {
      "image/png": "[encoded data removed]",
      "text/plain": [
       "<Figure size 640x480 with 1 Axes>"
      ]
     },
     "metadata": {},
     "output_type": "display_data"
    },
    {
     "name": "stdout",
     "output_type": "stream",
     "text": [
      "El coeficiente de correlación entre las ventas totales de XOne y el puntaje de USUARIOS de videojuegos es de: -0.06892505328279416\n"
     ]
    },
    {
     "data": {
      "image/png": "[encoded data removed]",
      "text/plain": [
       "<Figure size 640x480 with 1 Axes>"
      ]
     },
     "metadata": {},
     "output_type": "display_data"
    }
   ],
   "source": [
    "#Vamos a hacer el mismo análisis de correlación, pero ahora con la plataforma XOne, que fue la segunda con mayor numero de ventas en el 2016\n",
    "df_XOne= df.query('platform == \"XOne\"')\n",
    "\n",
    "critic_score_corr_xone=df_XOne['critic_score'].corr(df_XOne['total_sales'])\n",
    "print('El coeficiente de correlación entre las ventas totales de XOne y el puntaje de CRITICOS de videojuegos es de:', critic_score_corr_xone)\n",
    "df_XOne.plot(x='critic_score',y='total_sales',kind='scatter',title='How important does CRITIC score is?')\n",
    "plt.show()\n",
    "\n",
    "user_score_corr_xone=df_XOne['user_score'].corr(df_XOne['total_sales'])\n",
    "print('El coeficiente de correlación entre las ventas totales de XOne y el puntaje de USUARIOS de videojuegos es de:', user_score_corr_xone)\n",
    "df_XOne.plot(x='user_score',y='total_sales',kind='scatter',title='How important does CRITIC score is?')\n",
    "plt.show()"
   ]
  },
  {
   "cell_type": "markdown",
   "metadata": {},
   "source": [
    "Conclusiones: Al evaluar las correlacion entre las reseñas y las ventas, pero ahora para la plataforma XOne, obtenemos los mismos resultados que para la plataforma PS3."
   ]
  },
  {
   "cell_type": "code",
   "execution_count": 34,
   "metadata": {},
   "outputs": [
    {
     "name": "stdout",
     "output_type": "stream",
     "text": [
      "genre\n",
      "Action          1744.17\n",
      "Sports          1331.27\n",
      "Shooter         1052.45\n",
      "Role-Playing     934.56\n",
      "Platform         827.77\n",
      "Misc             802.51\n",
      "Racing           728.67\n",
      "Fighting         447.53\n",
      "Simulation       389.97\n",
      "Puzzle           242.57\n",
      "Adventure        237.59\n",
      "Strategy         174.23\n",
      "Unknown            2.42\n",
      "Name: total_sales, dtype: float64\n"
     ]
    },
    {
     "data": {
      "image/png": "[encoded data removed]",
      "text/plain": [
       "<Figure size 640x480 with 1 Axes>"
      ]
     },
     "metadata": {},
     "output_type": "display_data"
    }
   ],
   "source": [
    "#Vamos a analizar la distribución de los ingresos por genero de los videojuegos\n",
    "\n",
    "df_genre=df.groupby('genre')['total_sales'].sum()\n",
    "df_genre = df_genre.sort_values(ascending=False)\n",
    "print(df_genre)\n",
    "\n",
    "df_genre.plot(kind='bar',title='Which genre is more valuable?',xlabel='genre',ylabel='total sales $')\n",
    "plt.show()"
   ]
  },
  {
   "cell_type": "markdown",
   "metadata": {},
   "source": [
    "Conclusión: Los 3 generos de videojuegos con mayor cantidad de ventas para todas las regiones son: Ation, Sports y Shooter. Mientras que los 3 generos con menor ventas son: Puzzle, Adventure y Strategy. Unknown lo podemos no considerar dado que fue el nombre que le dimos a aquellos videojuegos que llevaban un valor ausente por genero.\n",
    "\n",
    "Por último, de acuerdo a toda la información que acabamos de analizar, la empresa deberá trabajar su campaña de mercadeo en la combinación de las tres principales plataformas (PS4, XOne, 3DS) y los tres generos más populares (Action, Sports, Shooter)"
   ]
  },
  {
   "cell_type": "markdown",
   "metadata": {},
   "source": [
    "### Paso 4: Crea un perfil de usuario para cada región"
   ]
  },
  {
   "cell_type": "code",
   "execution_count": 35,
   "metadata": {},
   "outputs": [
    {
     "name": "stdout",
     "output_type": "stream",
     "text": [
      "          na_sales  eu_sales  jp_sales\n",
      "platform                              \n",
      "X360        602.47    270.76       NaN\n",
      "PS2         583.84    339.29    139.20\n",
      "Wii         496.90    262.21       NaN\n",
      "PS3         393.49    330.29       NaN\n",
      "DS          382.40       NaN    175.57\n",
      "PS             NaN    213.61    139.82\n",
      "SNES           NaN       NaN    116.55\n",
      "3DS            NaN       NaN    100.67\n"
     ]
    }
   ],
   "source": [
    "#Vamos a obtener las 5 plataformas que más ventas tienen en las tres regiones que estamos estudiando\n",
    "\n",
    "#Obtenemos las 5 plataformas más vendidas para NorteAmerica\n",
    "df_na_sales= df.groupby('platform')['na_sales'].sum()\n",
    "df_na_sales=df_na_sales.sort_values(ascending=False)\n",
    "df_na_sales=df_na_sales.head()\n",
    "\n",
    "\n",
    "#Obtenemos las 5 plataformas más vendidas para Europa\n",
    "df_eu_sales = df.groupby('platform')['eu_sales'].sum()\n",
    "df_eu_sales = df_eu_sales.sort_values(ascending=False)\n",
    "df_eu_sales=df_eu_sales.head()\n",
    "\n",
    "\n",
    "#Obtenemos las 5 plataformas más vendidas para Japón\n",
    "df_jp_sales = df.groupby('platform')['jp_sales'].sum()\n",
    "df_jp_sales = df_jp_sales.sort_values(ascending=False)\n",
    "df_jp_sales = df_jp_sales.head()\n",
    "\n",
    "\n",
    "#Unimos los 3 Series con las 5 plataformas mas vendidas por área para ver las diferencias\n",
    "\n",
    "top_platform_per_area = pd.concat([df_na_sales,df_eu_sales,df_jp_sales], axis='columns')\n",
    "print(top_platform_per_area)\n"
   ]
  },
  {
   "cell_type": "markdown",
   "metadata": {},
   "source": [
    "Conclusión:  La unica plataforma que figura dentro de las que más generan ingresos para las tres regiones es o fue: PS2; por otra parte, el comportamiento entre Norte Ameria y Europa es muy similar en cuanto a ingresos por plataformas. 4 de las 5 plataformas con más ingresos son comunes entre Europa y Norteamerica. Mientras que para Japón, solo PS2 comparte también para Europa y Norte America. Por ende, la campaña de mercadeo debe ser especifica para el público japonés a diferencia del público occidental."
   ]
  },
  {
   "cell_type": "code",
   "execution_count": 36,
   "metadata": {},
   "outputs": [
    {
     "name": "stdout",
     "output_type": "stream",
     "text": [
      "              na_sales  eu_sales  jp_sales\n",
      "genre                                     \n",
      "Action          879.01    519.13    161.43\n",
      "Sports          684.43    376.79    135.54\n",
      "Shooter         592.24    317.34       NaN\n",
      "Platform        445.50       NaN    130.83\n",
      "Misc            407.27    212.74    108.11\n",
      "Racing             NaN    236.51       NaN\n",
      "Role-Playing       NaN       NaN    355.41\n"
     ]
    }
   ],
   "source": [
    "#Vamos a obtener los 5 generos preferidos por área\n",
    "\n",
    "\n",
    "#Obtenemos los 5 géneros más vendidas para NorteAmerica\n",
    "df_na_genre= df.groupby('genre')['na_sales'].sum()\n",
    "df_na_genre=df_na_genre.sort_values(ascending=False)\n",
    "df_na_genre=df_na_genre.head()\n",
    "\n",
    "\n",
    "#Obtenemos los 5 géneros más vendidas para Europa\n",
    "df_eu_genre = df.groupby('genre')['eu_sales'].sum()\n",
    "df_eu_genre = df_eu_genre.sort_values(ascending=False)\n",
    "df_eu_genre=df_eu_genre.head()\n",
    "\n",
    "\n",
    "#Obtenemos los 5 géneros más vendidas para Japón\n",
    "df_jp_genre = df.groupby('genre')['jp_sales'].sum()\n",
    "df_jp_genre = df_jp_genre.sort_values(ascending=False)\n",
    "df_jp_genre = df_jp_genre.head()\n",
    "\n",
    "#Unimos los 3 Series con los 5 géneros mas vendidas por área para ver las diferencias\n",
    "\n",
    "top_genre_per_area = pd.concat([df_na_genre,df_eu_genre,df_jp_genre], axis='columns')\n",
    "print(top_genre_per_area)"
   ]
  },
  {
   "cell_type": "markdown",
   "metadata": {},
   "source": [
    "Así como vimos anteriormente, los generos de Action y Sport son los que más venden a nivel global, y dentro del análisis por área, también se mantienen como de los principales para cada región. Pero, Oh Sorpresa, para Japón, tenemos un genero que es incluso más popular que estos dos y es 'Role-Playing', además vemos que NO se tienen ventas para el genero 'Shooter' en Japón, tal vez por alguna regulación del gobierno. Ahora sabemos el por que la esperanza de vida en Japón es más alta que en cualquier otro país."
   ]
  },
  {
   "cell_type": "code",
   "execution_count": 38,
   "metadata": {
    "scrolled": false
   },
   "outputs": [],
   "source": [
    "#Si las clasificaciones de ESRB afectan a las ventas en regiones individuales."
   ]
  },
  {
   "cell_type": "markdown",
   "metadata": {},
   "source": [
    "###Paso 5: Prueba las siguientes hipótesis:\n",
    "— Las calificaciones promedio de los usuarios para las plataformas Xbox One y PC son las mismas.\n",
    "\n",
    "— Las calificaciones promedio de los usuarios para los géneros de Acción y Deportes son diferentes."
   ]
  },
  {
   "cell_type": "code",
   "execution_count": 37,
   "metadata": {},
   "outputs": [
    {
     "name": "stdout",
     "output_type": "stream",
     "text": [
      "La varianza de las calificaciones de XOne es: 1.9069968429360695\n",
      "La varianza de las calificaciones de OC es: 2.3407871413372066\n",
      "El P Value para la prueba Levene es de: 0.2693951512047048\n",
      "No podemos rechazar la Hipótesis nula, no podemos concluir que las varianzas son diferentes\n",
      "1.3896435533548819e-05\n",
      "Rechazamos la Hipótesis nula\n"
     ]
    },
    {
     "name": "stderr",
     "output_type": "stream",
     "text": [
      "C:\\Users\\jrcis\\AppData\\Local\\Temp\\ipykernel_8660\\3484385130.py:4: SettingWithCopyWarning: \n",
      "A value is trying to be set on a copy of a slice from a DataFrame\n",
      "\n",
      "See the caveats in the documentation: https://pandas.pydata.org/pandas-docs/stable/user_guide/indexing.html#returning-a-view-versus-a-copy\n",
      "  df_users_score_XOne.dropna(inplace=True)\n",
      "C:\\Users\\jrcis\\AppData\\Local\\Temp\\ipykernel_8660\\3484385130.py:7: SettingWithCopyWarning: \n",
      "A value is trying to be set on a copy of a slice from a DataFrame\n",
      "\n",
      "See the caveats in the documentation: https://pandas.pydata.org/pandas-docs/stable/user_guide/indexing.html#returning-a-view-versus-a-copy\n",
      "  df_users_score_PC.dropna(inplace=True)\n"
     ]
    }
   ],
   "source": [
    "#Vamos a comprobar la hipótesis nula de que las calificaciones promedio de los usuarios de Xbox One y PC son iguales\n",
    "#Generamos los arreglos para cada población a evaluar\n",
    "df_users_score_XOne = df.query('platform == \"XOne\"')['user_score']\n",
    "df_users_score_XOne.dropna(inplace=True)\n",
    "\n",
    "df_users_score_PC = df.query('platform == \"PC\"')['user_score']\n",
    "df_users_score_PC.dropna(inplace=True)\n",
    "\n",
    "#Antes de iniciar con la prueba de hipótesis, corrroboremos si las varianzas de ambas poblaciones son iguales\n",
    "print('La varianza de las calificaciones de XOne es:', df_users_score_XOne.var())\n",
    "print('La varianza de las calificaciones de OC es:', df_users_score_PC.var())\n",
    "\n",
    "#Para confirmar que las varianzas no son iguales, haremos una prueba de hipótesis con el metodo levene\n",
    "results_var=st.levene(df_users_score_XOne, df_users_score_PC)\n",
    "print('El P Value para la prueba Levene es de:', results_var.pvalue)\n",
    "if results_var.pvalue < 0.05:\n",
    "    print('Rechazamos la hipótesis nula: Las varianzas de las poblaciones NO son iguales')\n",
    "else:\n",
    "    print('No podemos rechazar la Hipótesis nula, no podemos concluir que las varianzas son diferentes')\n",
    "\n",
    "#Vamos a usar pruebas de hipótesis para dos poblaciones considerando el resultado de la prueba Levene como argumento para Ttest\n",
    "result = st.ttest_ind(df_users_score_XOne, df_users_score_PC, equal_var=True)\n",
    "print(result.pvalue)\n",
    "if result.pvalue < 0.05:\n",
    "    print('Rechazamos la Hipótesis nula')\n",
    "else:\n",
    "    print('No podemos rechazar la Hipótesis nula')\n"
   ]
  },
  {
   "cell_type": "markdown",
   "metadata": {},
   "source": [
    "Hipótesis Nula: Los promedios de reseñas de usuarios para la plataforma Xbox One y PC son iguales\n",
    "Hipótesis Alternativa: Los promedios de reseñas de usuarios para la plataforma Xbox One y PC son diferentes\n",
    "\n",
    "Conclusión: Podemos asegurar con un 95% de confianza que los puntajes promedios de los usuarios tanto de la plataforma Xbox One y PC son diferentes."
   ]
  },
  {
   "cell_type": "code",
   "execution_count": 38,
   "metadata": {
    "scrolled": true
   },
   "outputs": [
    {
     "name": "stdout",
     "output_type": "stream",
     "text": [
      "La varianza de las calificaciones de Action es: 2.031746898033205\n",
      "La varianza de las calificaciones de Sports es: 2.5965147189730033\n",
      "El P Value para la prueba Levene es de: 0.0001736640672727649\n",
      "Rechazamos la hipótesis nula: Las varianzas de las poblaciones NO son iguales\n",
      "0.11483818791498286\n",
      "No podemos rechazar la Hipótesis nula\n"
     ]
    },
    {
     "name": "stderr",
     "output_type": "stream",
     "text": [
      "C:\\Users\\jrcis\\AppData\\Local\\Temp\\ipykernel_8660\\751365418.py:4: SettingWithCopyWarning: \n",
      "A value is trying to be set on a copy of a slice from a DataFrame\n",
      "\n",
      "See the caveats in the documentation: https://pandas.pydata.org/pandas-docs/stable/user_guide/indexing.html#returning-a-view-versus-a-copy\n",
      "  df_users_score_action.dropna(inplace=True)\n",
      "C:\\Users\\jrcis\\AppData\\Local\\Temp\\ipykernel_8660\\751365418.py:7: SettingWithCopyWarning: \n",
      "A value is trying to be set on a copy of a slice from a DataFrame\n",
      "\n",
      "See the caveats in the documentation: https://pandas.pydata.org/pandas-docs/stable/user_guide/indexing.html#returning-a-view-versus-a-copy\n",
      "  df_users_score_sports.dropna(inplace=True)\n"
     ]
    }
   ],
   "source": [
    "#Vamos a comprobar la hipótesis nula de que las calificaciones promedio de los usuarios para los generos Action y Sports\n",
    "#Generamos los arreglos para cada población a evaluar\n",
    "df_users_score_action = df.query('genre == \"Action\"')['user_score']\n",
    "df_users_score_action.dropna(inplace=True)\n",
    "\n",
    "df_users_score_sports = df.query('genre == \"Sports\"')['user_score']\n",
    "df_users_score_sports.dropna(inplace=True)\n",
    "\n",
    "#Antes de iniciar con la prueba de hipótesis, corrroboremos si las varianzas de ambas poblaciones son iguales\n",
    "print('La varianza de las calificaciones de Action es:', df_users_score_action.var())\n",
    "print('La varianza de las calificaciones de Sports es:', df_users_score_sports.var())\n",
    "\n",
    "#Para confirmar que las varianzas no son iguales, haremos una prueba de hipótesis con el metodo levene\n",
    "results_var_2=st.levene(df_users_score_action, df_users_score_sports)\n",
    "print('El P Value para la prueba Levene es de:', results_var_2.pvalue)\n",
    "if results_var_2.pvalue < 0.05:\n",
    "    print('Rechazamos la hipótesis nula: Las varianzas de las poblaciones NO son iguales')\n",
    "else:\n",
    "    print('No podemos rechazar la Hipótesis nula, no podemos concluir que las varianzas son diferentes')\n",
    "\n",
    "#Vamos a usar pruebas de hipótesis para dos poblaciones considerando el resultado de la prueba Levene como argumento para Ttest\n",
    "result_genre = st.ttest_ind(df_users_score_action, df_users_score_sports, equal_var=False)\n",
    "print(result_genre.pvalue)\n",
    "if result_genre.pvalue < 0.05:\n",
    "    print('Rechazamos la Hipótesis nula')\n",
    "else:\n",
    "    print('No podemos rechazar la Hipótesis nula')"
   ]
  },
  {
   "cell_type": "markdown",
   "metadata": {},
   "source": [
    "Se ha agregado la prueba Levene antes de la prueba Ttest para comprobar si las varianzas de las poblaciones donde fueron obtenidas ambas muestras a estudiar son iguales o no. Con el resultado de la prueba Levene es que podemos definir el argumento del metodo ttest en equal_var y poder hacer la comparación de ambas muestras para determinar si son iguales o no."
   ]
  },
  {
   "cell_type": "markdown",
   "metadata": {},
   "source": [
    "Hipótesis nula: El promedio de la calificaciones de los usuarios para los generos Acción y Sports son iguales (la hipótesis nula siempre representa igualdad)\n",
    "Hipótesis alternativa: El promedio de la calificaciones de los usuarios para los generos Acción y Sports son diferentes\n",
    "\n",
    "Conclusión: Con un 95% de confianza, podemos decir que NO existe evidencia suficiente para decir que el promedio de las califiaciones de los usuarios para los géneros Action y Sports son Diferentes."
   ]
  },
  {
   "cell_type": "markdown",
   "metadata": {},
   "source": [
    "### Conclusión General"
   ]
  },
  {
   "cell_type": "markdown",
   "metadata": {},
   "source": [
    "Ha sido un viaje fascinante el analizar esta base de datos sobre videojuegos: tantas cosas que podemos asumir pero mientras más nos vamos adentrando al análisis, más vamos derrumbando hipótesis que teniamos en un principio.\n",
    "\n",
    "1) Preparación de los datos:\n",
    "    Esta vez los datos estaban en buenas condiciones, salvo que si tuvimos que realizar algún par de acciones. En general los datos venian bien estructurados, aquellas columnas con las ventas no tenian valores ausentes, no se tenian filas duplicadas y los tipos de datos de casi todas las columnas, eran los adecuados. Las columnas que SI contaban con bastantes valores ausentes eran las de las reseñas y también para los años de lanzamiento, que se pudieron reemplazar por 0 para evitar borrar aquellos videojeugos que no tenian registro de año de lanzamiento. Aquí fue importante identificar que columnas son variables categóricas y cuales numéricas para no perder información al momento de preparar los datos.\n",
    "    \n",
    "2) Análisis de los datos:\n",
    "    2.1) El mundo de los videojuegos es ciclico, no tenemos ninguna plataforma que haya mantenido a lo largo de los años. Todas alcanzan un pico de popularidad y apartir de ahi comienzan a perder terreno. Y es por la evolución en el desarrollo de nuevas plataformas, esa seria la explicación a este comportamiento.\n",
    "    2.2) Fue importante identificar que teniamos que acortar el periodo de tiempo al analizar los datos para la estrategia del año 2017, fue ahí donde pudimos obtener las plataformas más populares que probablemente se mantengan para el 2017 y a las cuales la compañia debe apostar. \n",
    "    2.3) También vimos que la distribución de ventas para distintos videojuegos no es la misma y tienen mucha dispersión. Es decir, hay videojuegos significativamente más populares que otros, por lo tanto la empresa deberá indeitificar aquellos videojuegos más populares y traerlos a sus vitrinas.\n",
    "    2.4) Los mercados regionales y sus comportamientos son distintos. Pudimos ver que las preferencias de videojuegos y plataformas en Japón es significativamente distinta a las de otras regiones del mundo.\n",
    "    2.5) También vimos que las reseñas recibidas por criticos para un videojuego, pueden influir de manera positiva en la elección de un usuario para la compra del mismo. Sin embargo, no pasaba lo mismo para con las reseñas de los usuarios.\n",
    "\n",
    "3) Pruebas de hipótesis:\n",
    "    3.1) Establecimos un nivel de significancia del 95% dado que es el mpas comunmente usado; podemos retroalimentar a la compañia que mientras más se puedan acotar sus estrategias de mercadeo, mejores resultados podrán obtener dado que cada población es distinta y lo vimos por regiones, por plataformas y por generos. \n",
    "    3.2) La reseña promedio de los usuarios de Xbox One y de PC son distintas\n",
    "    3.3) No hay evidencia suficiente para asegurar que las reseñas promedios para los videojuegos de los géneros más populares: Acción y Deportes son diferentes.\n",
    "    "
   ]
  }
 ],
 "metadata": {
  "ExecuteTimeLog": [
   {
    "duration": 606,
    "start_time": "2024-11-30T19:38:46.649Z"
   },
   {
    "duration": 37,
    "start_time": "2024-11-30T19:38:48.816Z"
   },
   {
    "duration": 268,
    "start_time": "2024-11-30T19:38:50.521Z"
   },
   {
    "duration": 21,
    "start_time": "2024-11-30T19:39:47.914Z"
   },
   {
    "duration": 14,
    "start_time": "2024-11-30T19:40:48.334Z"
   },
   {
    "duration": 3,
    "start_time": "2024-11-30T19:59:19.962Z"
   },
   {
    "duration": 14,
    "start_time": "2024-11-30T19:59:56.284Z"
   },
   {
    "duration": 15,
    "start_time": "2024-11-30T20:02:19.715Z"
   },
   {
    "duration": 4,
    "start_time": "2024-11-30T20:06:31.676Z"
   },
   {
    "duration": 4,
    "start_time": "2024-11-30T20:08:57.553Z"
   },
   {
    "duration": 15,
    "start_time": "2024-11-30T20:09:04.388Z"
   },
   {
    "duration": 552,
    "start_time": "2024-11-30T20:09:15.522Z"
   },
   {
    "duration": 3,
    "start_time": "2024-11-30T20:13:02.692Z"
   },
   {
    "duration": 61,
    "start_time": "2024-11-30T20:13:12.388Z"
   },
   {
    "duration": 569,
    "start_time": "2024-11-30T20:13:39.983Z"
   },
   {
    "duration": 25,
    "start_time": "2024-11-30T20:13:40.554Z"
   },
   {
    "duration": 25,
    "start_time": "2024-11-30T20:13:40.580Z"
   },
   {
    "duration": 4,
    "start_time": "2024-11-30T20:13:40.607Z"
   },
   {
    "duration": 816,
    "start_time": "2024-11-30T20:13:40.613Z"
   },
   {
    "duration": 14,
    "start_time": "2024-11-30T20:22:42.035Z"
   },
   {
    "duration": 560,
    "start_time": "2024-11-30T20:23:57.685Z"
   },
   {
    "duration": 25,
    "start_time": "2024-11-30T20:23:58.247Z"
   },
   {
    "duration": 19,
    "start_time": "2024-11-30T20:23:58.274Z"
   },
   {
    "duration": 5,
    "start_time": "2024-11-30T20:23:58.306Z"
   },
   {
    "duration": 12,
    "start_time": "2024-11-30T20:23:58.312Z"
   },
   {
    "duration": 5,
    "start_time": "2024-11-30T20:28:37.454Z"
   },
   {
    "duration": 564,
    "start_time": "2024-11-30T20:30:39.497Z"
   },
   {
    "duration": 11,
    "start_time": "2024-11-30T20:30:56.165Z"
   },
   {
    "duration": 5,
    "start_time": "2024-11-30T20:35:36.644Z"
   },
   {
    "duration": 13,
    "start_time": "2024-11-30T20:35:54.941Z"
   },
   {
    "duration": 13,
    "start_time": "2024-11-30T20:40:28.897Z"
   },
   {
    "duration": 13,
    "start_time": "2024-11-30T20:40:35.602Z"
   },
   {
    "duration": 618,
    "start_time": "2024-11-30T22:53:31.609Z"
   },
   {
    "duration": 34,
    "start_time": "2024-11-30T22:53:32.229Z"
   },
   {
    "duration": 16,
    "start_time": "2024-11-30T22:53:32.265Z"
   },
   {
    "duration": 6,
    "start_time": "2024-11-30T22:53:32.283Z"
   },
   {
    "duration": 10,
    "start_time": "2024-11-30T22:53:32.292Z"
   },
   {
    "duration": 12,
    "start_time": "2024-11-30T22:53:32.304Z"
   },
   {
    "duration": 11,
    "start_time": "2024-11-30T22:53:32.318Z"
   },
   {
    "duration": 12,
    "start_time": "2024-11-30T22:53:32.331Z"
   },
   {
    "duration": 232,
    "start_time": "2024-11-30T22:54:41.458Z"
   },
   {
    "duration": 3,
    "start_time": "2024-11-30T22:55:02.844Z"
   },
   {
    "duration": 5,
    "start_time": "2024-11-30T22:55:08.658Z"
   },
   {
    "duration": 11,
    "start_time": "2024-11-30T22:56:28.432Z"
   },
   {
    "duration": 13,
    "start_time": "2024-11-30T23:23:42.298Z"
   },
   {
    "duration": 12,
    "start_time": "2024-11-30T23:27:38.528Z"
   },
   {
    "duration": 15,
    "start_time": "2024-11-30T23:32:43.963Z"
   },
   {
    "duration": 589,
    "start_time": "2024-11-30T23:34:49.632Z"
   },
   {
    "duration": 32,
    "start_time": "2024-11-30T23:34:50.224Z"
   },
   {
    "duration": 16,
    "start_time": "2024-11-30T23:34:50.258Z"
   },
   {
    "duration": 4,
    "start_time": "2024-11-30T23:34:50.277Z"
   },
   {
    "duration": 10,
    "start_time": "2024-11-30T23:34:50.288Z"
   },
   {
    "duration": 11,
    "start_time": "2024-11-30T23:34:50.300Z"
   },
   {
    "duration": 12,
    "start_time": "2024-11-30T23:34:50.312Z"
   },
   {
    "duration": 12,
    "start_time": "2024-11-30T23:34:50.325Z"
   },
   {
    "duration": 11,
    "start_time": "2024-11-30T23:34:50.338Z"
   },
   {
    "duration": 45,
    "start_time": "2024-11-30T23:34:50.350Z"
   },
   {
    "duration": 8,
    "start_time": "2024-11-30T23:46:44.985Z"
   },
   {
    "duration": 6,
    "start_time": "2024-11-30T23:47:10.038Z"
   },
   {
    "duration": 10,
    "start_time": "2024-11-30T23:50:57.132Z"
   },
   {
    "duration": 12,
    "start_time": "2024-11-30T23:53:18.272Z"
   },
   {
    "duration": 13,
    "start_time": "2024-11-30T23:53:58.095Z"
   },
   {
    "duration": 11,
    "start_time": "2024-11-30T23:57:37.584Z"
   },
   {
    "duration": 19,
    "start_time": "2024-12-01T00:01:21.299Z"
   },
   {
    "duration": 232,
    "start_time": "2024-12-01T00:03:25.706Z"
   },
   {
    "duration": 4,
    "start_time": "2024-12-01T00:03:39.788Z"
   },
   {
    "duration": 609,
    "start_time": "2024-12-01T17:40:32.926Z"
   },
   {
    "duration": 35,
    "start_time": "2024-12-01T17:40:33.537Z"
   },
   {
    "duration": 17,
    "start_time": "2024-12-01T17:40:33.574Z"
   },
   {
    "duration": 4,
    "start_time": "2024-12-01T17:40:33.593Z"
   },
   {
    "duration": 10,
    "start_time": "2024-12-01T17:40:33.600Z"
   },
   {
    "duration": 12,
    "start_time": "2024-12-01T17:40:33.612Z"
   },
   {
    "duration": 11,
    "start_time": "2024-12-01T17:40:33.626Z"
   },
   {
    "duration": 11,
    "start_time": "2024-12-01T17:40:33.639Z"
   },
   {
    "duration": 45,
    "start_time": "2024-12-01T17:40:33.652Z"
   },
   {
    "duration": 13,
    "start_time": "2024-12-01T17:40:33.699Z"
   },
   {
    "duration": 5,
    "start_time": "2024-12-01T17:40:33.714Z"
   },
   {
    "duration": 12,
    "start_time": "2024-12-01T17:40:33.721Z"
   },
   {
    "duration": 11,
    "start_time": "2024-12-01T17:40:33.735Z"
   },
   {
    "duration": 43,
    "start_time": "2024-12-01T17:40:33.749Z"
   },
   {
    "duration": 3,
    "start_time": "2024-12-01T17:40:33.794Z"
   },
   {
    "duration": 128,
    "start_time": "2024-12-01T17:49:31.712Z"
   },
   {
    "duration": 155,
    "start_time": "2024-12-01T17:49:36.123Z"
   },
   {
    "duration": 6,
    "start_time": "2024-12-01T17:49:41.172Z"
   },
   {
    "duration": 2131,
    "start_time": "2024-12-01T17:54:36.824Z"
   },
   {
    "duration": 712,
    "start_time": "2024-12-01T17:56:54.255Z"
   },
   {
    "duration": 28,
    "start_time": "2024-12-01T17:56:54.970Z"
   },
   {
    "duration": 15,
    "start_time": "2024-12-01T17:56:54.999Z"
   },
   {
    "duration": 3,
    "start_time": "2024-12-01T17:56:55.017Z"
   },
   {
    "duration": 12,
    "start_time": "2024-12-01T17:56:55.022Z"
   },
   {
    "duration": 11,
    "start_time": "2024-12-01T17:56:55.036Z"
   },
   {
    "duration": 37,
    "start_time": "2024-12-01T17:56:55.049Z"
   },
   {
    "duration": 11,
    "start_time": "2024-12-01T17:56:55.088Z"
   },
   {
    "duration": 11,
    "start_time": "2024-12-01T17:56:55.101Z"
   },
   {
    "duration": 12,
    "start_time": "2024-12-01T17:56:55.115Z"
   },
   {
    "duration": 6,
    "start_time": "2024-12-01T17:56:55.129Z"
   },
   {
    "duration": 12,
    "start_time": "2024-12-01T17:56:55.137Z"
   },
   {
    "duration": 43,
    "start_time": "2024-12-01T17:56:55.151Z"
   },
   {
    "duration": 17,
    "start_time": "2024-12-01T17:56:55.195Z"
   },
   {
    "duration": 2,
    "start_time": "2024-12-01T17:56:55.214Z"
   },
   {
    "duration": 270,
    "start_time": "2024-12-01T17:56:55.218Z"
   },
   {
    "duration": 8,
    "start_time": "2024-12-01T18:04:52.255Z"
   },
   {
    "duration": 7,
    "start_time": "2024-12-01T18:37:20.428Z"
   },
   {
    "duration": 338,
    "start_time": "2024-12-01T18:39:02.241Z"
   },
   {
    "duration": 7,
    "start_time": "2024-12-01T18:39:13.655Z"
   },
   {
    "duration": 18,
    "start_time": "2024-12-01T18:42:42.371Z"
   },
   {
    "duration": 196,
    "start_time": "2024-12-01T18:42:49.756Z"
   },
   {
    "duration": 2,
    "start_time": "2024-12-01T18:46:30.047Z"
   },
   {
    "duration": 3,
    "start_time": "2024-12-01T18:46:38.261Z"
   },
   {
    "duration": 419,
    "start_time": "2024-12-01T18:50:36.863Z"
   },
   {
    "duration": 24,
    "start_time": "2024-12-01T18:51:08.882Z"
   },
   {
    "duration": 23,
    "start_time": "2024-12-01T19:03:34.858Z"
   },
   {
    "duration": 4,
    "start_time": "2024-12-01T19:04:05.118Z"
   },
   {
    "duration": 5,
    "start_time": "2024-12-01T19:05:29.900Z"
   },
   {
    "duration": 4,
    "start_time": "2024-12-01T19:05:55.058Z"
   },
   {
    "duration": 19,
    "start_time": "2024-12-01T19:07:17.886Z"
   },
   {
    "duration": 149,
    "start_time": "2024-12-01T19:08:47.642Z"
   },
   {
    "duration": 19,
    "start_time": "2024-12-01T19:09:56.284Z"
   },
   {
    "duration": 20,
    "start_time": "2024-12-01T19:10:33.626Z"
   },
   {
    "duration": 775,
    "start_time": "2024-12-01T19:11:58.337Z"
   },
   {
    "duration": 49,
    "start_time": "2024-12-01T19:16:03.388Z"
   },
   {
    "duration": 20,
    "start_time": "2024-12-01T19:16:14.059Z"
   },
   {
    "duration": 70,
    "start_time": "2024-12-01T19:17:29.384Z"
   },
   {
    "duration": 27,
    "start_time": "2024-12-01T19:19:39.937Z"
   },
   {
    "duration": 28,
    "start_time": "2024-12-01T19:20:05.657Z"
   },
   {
    "duration": 23,
    "start_time": "2024-12-01T19:20:30.294Z"
   },
   {
    "duration": 18,
    "start_time": "2024-12-01T19:21:19.433Z"
   },
   {
    "duration": 18,
    "start_time": "2024-12-01T19:21:38.527Z"
   },
   {
    "duration": 361,
    "start_time": "2024-12-01T19:21:49.777Z"
   },
   {
    "duration": 738,
    "start_time": "2024-12-01T19:23:11.180Z"
   },
   {
    "duration": 25,
    "start_time": "2024-12-01T19:23:11.920Z"
   },
   {
    "duration": 16,
    "start_time": "2024-12-01T19:23:11.947Z"
   },
   {
    "duration": 3,
    "start_time": "2024-12-01T19:23:11.965Z"
   },
   {
    "duration": 12,
    "start_time": "2024-12-01T19:23:11.986Z"
   },
   {
    "duration": 12,
    "start_time": "2024-12-01T19:23:12.000Z"
   },
   {
    "duration": 12,
    "start_time": "2024-12-01T19:23:12.014Z"
   },
   {
    "duration": 12,
    "start_time": "2024-12-01T19:23:12.028Z"
   },
   {
    "duration": 11,
    "start_time": "2024-12-01T19:23:12.041Z"
   },
   {
    "duration": 13,
    "start_time": "2024-12-01T19:23:12.087Z"
   },
   {
    "duration": 6,
    "start_time": "2024-12-01T19:23:12.101Z"
   },
   {
    "duration": 12,
    "start_time": "2024-12-01T19:23:12.108Z"
   },
   {
    "duration": 11,
    "start_time": "2024-12-01T19:23:12.122Z"
   },
   {
    "duration": 14,
    "start_time": "2024-12-01T19:23:12.134Z"
   },
   {
    "duration": 3,
    "start_time": "2024-12-01T19:23:12.150Z"
   },
   {
    "duration": 260,
    "start_time": "2024-12-01T19:23:12.186Z"
   },
   {
    "duration": 207,
    "start_time": "2024-12-01T19:23:12.448Z"
   },
   {
    "duration": 4,
    "start_time": "2024-12-01T19:23:12.656Z"
   },
   {
    "duration": 76,
    "start_time": "2024-12-01T19:23:12.662Z"
   },
   {
    "duration": 357,
    "start_time": "2024-12-01T19:23:12.740Z"
   },
   {
    "duration": 4,
    "start_time": "2024-12-01T19:26:29.661Z"
   },
   {
    "duration": 379,
    "start_time": "2024-12-01T19:26:53.495Z"
   },
   {
    "duration": 2449,
    "start_time": "2024-12-01T22:39:19.661Z"
   },
   {
    "duration": 35,
    "start_time": "2024-12-01T22:39:22.112Z"
   },
   {
    "duration": 16,
    "start_time": "2024-12-01T22:39:22.149Z"
   },
   {
    "duration": 3,
    "start_time": "2024-12-01T22:39:22.169Z"
   },
   {
    "duration": 10,
    "start_time": "2024-12-01T22:39:22.175Z"
   },
   {
    "duration": 12,
    "start_time": "2024-12-01T22:39:22.187Z"
   },
   {
    "duration": 11,
    "start_time": "2024-12-01T22:39:22.200Z"
   },
   {
    "duration": 11,
    "start_time": "2024-12-01T22:39:22.213Z"
   },
   {
    "duration": 45,
    "start_time": "2024-12-01T22:39:22.225Z"
   },
   {
    "duration": 13,
    "start_time": "2024-12-01T22:39:22.272Z"
   },
   {
    "duration": 5,
    "start_time": "2024-12-01T22:39:22.287Z"
   },
   {
    "duration": 12,
    "start_time": "2024-12-01T22:39:22.294Z"
   },
   {
    "duration": 11,
    "start_time": "2024-12-01T22:39:22.308Z"
   },
   {
    "duration": 14,
    "start_time": "2024-12-01T22:39:22.323Z"
   },
   {
    "duration": 3,
    "start_time": "2024-12-01T22:39:22.370Z"
   },
   {
    "duration": 261,
    "start_time": "2024-12-01T22:39:22.375Z"
   },
   {
    "duration": 203,
    "start_time": "2024-12-01T22:39:22.638Z"
   },
   {
    "duration": 4,
    "start_time": "2024-12-01T22:39:22.842Z"
   },
   {
    "duration": 34,
    "start_time": "2024-12-01T22:39:22.849Z"
   },
   {
    "duration": 428,
    "start_time": "2024-12-01T22:39:22.885Z"
   },
   {
    "duration": 12,
    "start_time": "2024-12-01T22:59:43.284Z"
   },
   {
    "duration": 5,
    "start_time": "2024-12-01T23:02:10.660Z"
   },
   {
    "duration": 18,
    "start_time": "2024-12-01T23:06:30.980Z"
   },
   {
    "duration": 210,
    "start_time": "2024-12-01T23:12:41.922Z"
   },
   {
    "duration": 621,
    "start_time": "2024-12-01T23:12:52.272Z"
   },
   {
    "duration": 513,
    "start_time": "2024-12-01T23:13:19.545Z"
   },
   {
    "duration": 13,
    "start_time": "2024-12-01T23:33:11.710Z"
   },
   {
    "duration": 4,
    "start_time": "2024-12-01T23:33:16.851Z"
   },
   {
    "duration": 14,
    "start_time": "2024-12-01T23:33:24.213Z"
   },
   {
    "duration": 292,
    "start_time": "2024-12-01T23:33:27.779Z"
   },
   {
    "duration": 406,
    "start_time": "2024-12-01T23:34:54.097Z"
   },
   {
    "duration": 7,
    "start_time": "2024-12-01T23:35:37.093Z"
   },
   {
    "duration": 8,
    "start_time": "2024-12-01T23:37:35.801Z"
   },
   {
    "duration": 16,
    "start_time": "2024-12-01T23:38:52.675Z"
   },
   {
    "duration": 17,
    "start_time": "2024-12-01T23:39:16.771Z"
   },
   {
    "duration": 17,
    "start_time": "2024-12-01T23:39:25.347Z"
   },
   {
    "duration": 7,
    "start_time": "2024-12-01T23:39:34.552Z"
   },
   {
    "duration": 7,
    "start_time": "2024-12-01T23:40:09.907Z"
   },
   {
    "duration": 4,
    "start_time": "2024-12-01T23:56:52.767Z"
   },
   {
    "duration": 4,
    "start_time": "2024-12-01T23:57:16.425Z"
   },
   {
    "duration": 6,
    "start_time": "2024-12-01T23:57:48.226Z"
   },
   {
    "duration": 3,
    "start_time": "2024-12-01T23:57:51.419Z"
   },
   {
    "duration": 14,
    "start_time": "2024-12-01T23:58:46.774Z"
   },
   {
    "duration": 207,
    "start_time": "2024-12-01T23:59:41.390Z"
   },
   {
    "duration": 45,
    "start_time": "2024-12-02T00:00:03.179Z"
   },
   {
    "duration": 6,
    "start_time": "2024-12-02T00:00:56.365Z"
   },
   {
    "duration": 7,
    "start_time": "2024-12-02T00:01:45.335Z"
   },
   {
    "duration": 13,
    "start_time": "2024-12-02T00:03:03.037Z"
   },
   {
    "duration": 18,
    "start_time": "2024-12-02T00:03:21.596Z"
   },
   {
    "duration": 13,
    "start_time": "2024-12-02T00:03:34.042Z"
   },
   {
    "duration": 6,
    "start_time": "2024-12-02T00:04:22.574Z"
   },
   {
    "duration": 40,
    "start_time": "2024-12-02T00:04:34.438Z"
   },
   {
    "duration": 726,
    "start_time": "2024-12-02T00:05:23.337Z"
   },
   {
    "duration": 26,
    "start_time": "2024-12-02T00:05:24.065Z"
   },
   {
    "duration": 15,
    "start_time": "2024-12-02T00:05:24.093Z"
   },
   {
    "duration": 4,
    "start_time": "2024-12-02T00:05:24.110Z"
   },
   {
    "duration": 9,
    "start_time": "2024-12-02T00:05:24.116Z"
   },
   {
    "duration": 13,
    "start_time": "2024-12-02T00:05:24.127Z"
   },
   {
    "duration": 12,
    "start_time": "2024-12-02T00:05:24.169Z"
   },
   {
    "duration": 12,
    "start_time": "2024-12-02T00:05:24.182Z"
   },
   {
    "duration": 12,
    "start_time": "2024-12-02T00:05:24.195Z"
   },
   {
    "duration": 17,
    "start_time": "2024-12-02T00:05:24.212Z"
   },
   {
    "duration": 7,
    "start_time": "2024-12-02T00:05:24.231Z"
   },
   {
    "duration": 40,
    "start_time": "2024-12-02T00:05:24.240Z"
   },
   {
    "duration": 11,
    "start_time": "2024-12-02T00:05:24.282Z"
   },
   {
    "duration": 14,
    "start_time": "2024-12-02T00:05:24.294Z"
   },
   {
    "duration": 3,
    "start_time": "2024-12-02T00:05:24.310Z"
   },
   {
    "duration": 272,
    "start_time": "2024-12-02T00:05:24.315Z"
   },
   {
    "duration": 202,
    "start_time": "2024-12-02T00:05:24.589Z"
   },
   {
    "duration": 3,
    "start_time": "2024-12-02T00:05:24.793Z"
   },
   {
    "duration": 76,
    "start_time": "2024-12-02T00:05:24.798Z"
   },
   {
    "duration": 370,
    "start_time": "2024-12-02T00:05:24.875Z"
   },
   {
    "duration": 12,
    "start_time": "2024-12-02T00:05:25.247Z"
   },
   {
    "duration": 4,
    "start_time": "2024-12-02T00:05:25.272Z"
   },
   {
    "duration": 14,
    "start_time": "2024-12-02T00:05:25.278Z"
   },
   {
    "duration": 307,
    "start_time": "2024-12-02T00:05:25.293Z"
   },
   {
    "duration": 7,
    "start_time": "2024-12-02T00:05:25.602Z"
   },
   {
    "duration": 6,
    "start_time": "2024-12-02T00:05:25.610Z"
   },
   {
    "duration": 8,
    "start_time": "2024-12-02T00:05:25.617Z"
   },
   {
    "duration": 125,
    "start_time": "2024-12-02T00:06:50.724Z"
   },
   {
    "duration": 492,
    "start_time": "2024-12-02T00:20:16.655Z"
   },
   {
    "duration": 15,
    "start_time": "2024-12-02T00:25:29.296Z"
   },
   {
    "duration": 740,
    "start_time": "2024-12-02T00:25:54.669Z"
   },
   {
    "duration": 24,
    "start_time": "2024-12-02T00:25:55.411Z"
   },
   {
    "duration": 16,
    "start_time": "2024-12-02T00:25:55.437Z"
   },
   {
    "duration": 15,
    "start_time": "2024-12-02T00:25:55.455Z"
   },
   {
    "duration": 10,
    "start_time": "2024-12-02T00:25:55.473Z"
   },
   {
    "duration": 11,
    "start_time": "2024-12-02T00:25:55.484Z"
   },
   {
    "duration": 11,
    "start_time": "2024-12-02T00:25:55.497Z"
   },
   {
    "duration": 13,
    "start_time": "2024-12-02T00:25:55.509Z"
   },
   {
    "duration": 47,
    "start_time": "2024-12-02T00:25:55.523Z"
   },
   {
    "duration": 14,
    "start_time": "2024-12-02T00:25:55.572Z"
   },
   {
    "duration": 6,
    "start_time": "2024-12-02T00:25:55.587Z"
   },
   {
    "duration": 12,
    "start_time": "2024-12-02T00:25:55.594Z"
   },
   {
    "duration": 10,
    "start_time": "2024-12-02T00:25:55.608Z"
   },
   {
    "duration": 14,
    "start_time": "2024-12-02T00:25:55.621Z"
   },
   {
    "duration": 34,
    "start_time": "2024-12-02T00:25:55.636Z"
   },
   {
    "duration": 267,
    "start_time": "2024-12-02T00:25:55.672Z"
   },
   {
    "duration": 197,
    "start_time": "2024-12-02T00:25:55.940Z"
   },
   {
    "duration": 5,
    "start_time": "2024-12-02T00:25:56.139Z"
   },
   {
    "duration": 81,
    "start_time": "2024-12-02T00:25:56.146Z"
   },
   {
    "duration": 408,
    "start_time": "2024-12-02T00:25:56.229Z"
   },
   {
    "duration": 11,
    "start_time": "2024-12-02T00:25:56.639Z"
   },
   {
    "duration": 4,
    "start_time": "2024-12-02T00:25:56.652Z"
   },
   {
    "duration": 24,
    "start_time": "2024-12-02T00:25:56.657Z"
   },
   {
    "duration": 315,
    "start_time": "2024-12-02T00:25:56.683Z"
   },
   {
    "duration": 8,
    "start_time": "2024-12-02T00:25:57.000Z"
   },
   {
    "duration": 6,
    "start_time": "2024-12-02T00:25:57.009Z"
   },
   {
    "duration": 8,
    "start_time": "2024-12-02T00:25:57.016Z"
   },
   {
    "duration": 242,
    "start_time": "2024-12-02T00:25:57.026Z"
   },
   {
    "duration": 80,
    "start_time": "2024-12-02T00:26:23.470Z"
   },
   {
    "duration": 21,
    "start_time": "2024-12-02T00:27:36.896Z"
   },
   {
    "duration": 8,
    "start_time": "2024-12-02T00:28:17.485Z"
   },
   {
    "duration": 9,
    "start_time": "2024-12-02T00:30:13.264Z"
   },
   {
    "duration": 716,
    "start_time": "2024-12-02T00:30:45.141Z"
   },
   {
    "duration": 30,
    "start_time": "2024-12-02T00:30:45.859Z"
   },
   {
    "duration": 15,
    "start_time": "2024-12-02T00:30:45.891Z"
   },
   {
    "duration": 4,
    "start_time": "2024-12-02T00:30:45.908Z"
   },
   {
    "duration": 10,
    "start_time": "2024-12-02T00:30:45.914Z"
   },
   {
    "duration": 13,
    "start_time": "2024-12-02T00:30:45.925Z"
   },
   {
    "duration": 38,
    "start_time": "2024-12-02T00:30:45.939Z"
   },
   {
    "duration": 11,
    "start_time": "2024-12-02T00:30:45.979Z"
   },
   {
    "duration": 11,
    "start_time": "2024-12-02T00:30:45.991Z"
   },
   {
    "duration": 13,
    "start_time": "2024-12-02T00:30:46.006Z"
   },
   {
    "duration": 5,
    "start_time": "2024-12-02T00:30:46.021Z"
   },
   {
    "duration": 45,
    "start_time": "2024-12-02T00:30:46.028Z"
   },
   {
    "duration": 11,
    "start_time": "2024-12-02T00:30:46.075Z"
   },
   {
    "duration": 15,
    "start_time": "2024-12-02T00:30:46.087Z"
   },
   {
    "duration": 3,
    "start_time": "2024-12-02T00:30:46.104Z"
   },
   {
    "duration": 292,
    "start_time": "2024-12-02T00:30:46.109Z"
   },
   {
    "duration": 215,
    "start_time": "2024-12-02T00:30:46.403Z"
   },
   {
    "duration": 4,
    "start_time": "2024-12-02T00:30:46.620Z"
   },
   {
    "duration": 82,
    "start_time": "2024-12-02T00:30:46.626Z"
   },
   {
    "duration": 387,
    "start_time": "2024-12-02T00:30:46.710Z"
   },
   {
    "duration": 11,
    "start_time": "2024-12-02T00:30:47.099Z"
   },
   {
    "duration": 4,
    "start_time": "2024-12-02T00:30:47.111Z"
   },
   {
    "duration": 14,
    "start_time": "2024-12-02T00:30:47.117Z"
   },
   {
    "duration": 339,
    "start_time": "2024-12-02T00:30:47.133Z"
   },
   {
    "duration": 7,
    "start_time": "2024-12-02T00:30:47.474Z"
   },
   {
    "duration": 6,
    "start_time": "2024-12-02T00:30:47.482Z"
   },
   {
    "duration": 10,
    "start_time": "2024-12-02T00:30:47.490Z"
   },
   {
    "duration": 161,
    "start_time": "2024-12-02T00:30:47.504Z"
   },
   {
    "duration": 535,
    "start_time": "2024-12-02T00:31:29.970Z"
   },
   {
    "duration": 9,
    "start_time": "2024-12-02T00:31:55.948Z"
   },
   {
    "duration": 6,
    "start_time": "2024-12-02T00:35:48.906Z"
   },
   {
    "duration": 48,
    "start_time": "2024-12-02T00:35:56.421Z"
   },
   {
    "duration": 14,
    "start_time": "2024-12-02T00:37:07.931Z"
   },
   {
    "duration": 11,
    "start_time": "2024-12-02T00:39:45.087Z"
   },
   {
    "duration": 15,
    "start_time": "2024-12-02T00:42:01.806Z"
   },
   {
    "duration": 91,
    "start_time": "2024-12-02T00:44:14.946Z"
   },
   {
    "duration": 78,
    "start_time": "2024-12-02T00:45:26.146Z"
   },
   {
    "duration": 761,
    "start_time": "2024-12-02T00:46:35.815Z"
   },
   {
    "duration": 24,
    "start_time": "2024-12-02T00:46:36.578Z"
   },
   {
    "duration": 15,
    "start_time": "2024-12-02T00:46:36.604Z"
   },
   {
    "duration": 4,
    "start_time": "2024-12-02T00:46:36.620Z"
   },
   {
    "duration": 10,
    "start_time": "2024-12-02T00:46:36.628Z"
   },
   {
    "duration": 38,
    "start_time": "2024-12-02T00:46:36.639Z"
   },
   {
    "duration": 12,
    "start_time": "2024-12-02T00:46:36.679Z"
   },
   {
    "duration": 11,
    "start_time": "2024-12-02T00:46:36.693Z"
   },
   {
    "duration": 11,
    "start_time": "2024-12-02T00:46:36.706Z"
   },
   {
    "duration": 13,
    "start_time": "2024-12-02T00:46:36.719Z"
   },
   {
    "duration": 37,
    "start_time": "2024-12-02T00:46:36.734Z"
   },
   {
    "duration": 14,
    "start_time": "2024-12-02T00:46:36.773Z"
   },
   {
    "duration": 12,
    "start_time": "2024-12-02T00:46:36.789Z"
   },
   {
    "duration": 14,
    "start_time": "2024-12-02T00:46:36.804Z"
   },
   {
    "duration": 3,
    "start_time": "2024-12-02T00:46:36.819Z"
   },
   {
    "duration": 295,
    "start_time": "2024-12-02T00:46:36.824Z"
   },
   {
    "duration": 221,
    "start_time": "2024-12-02T00:46:37.121Z"
   },
   {
    "duration": 5,
    "start_time": "2024-12-02T00:46:37.343Z"
   },
   {
    "duration": 75,
    "start_time": "2024-12-02T00:46:37.350Z"
   },
   {
    "duration": 369,
    "start_time": "2024-12-02T00:46:37.426Z"
   },
   {
    "duration": 12,
    "start_time": "2024-12-02T00:46:37.797Z"
   },
   {
    "duration": 4,
    "start_time": "2024-12-02T00:46:37.810Z"
   },
   {
    "duration": 14,
    "start_time": "2024-12-02T00:46:37.816Z"
   },
   {
    "duration": 312,
    "start_time": "2024-12-02T00:46:37.832Z"
   },
   {
    "duration": 6,
    "start_time": "2024-12-02T00:46:38.146Z"
   },
   {
    "duration": 18,
    "start_time": "2024-12-02T00:46:38.154Z"
   },
   {
    "duration": 16,
    "start_time": "2024-12-02T00:46:38.173Z"
   },
   {
    "duration": 143,
    "start_time": "2024-12-02T00:46:38.190Z"
   },
   {
    "duration": 86,
    "start_time": "2024-12-02T00:46:38.334Z"
   },
   {
    "duration": 90,
    "start_time": "2024-12-02T00:46:38.422Z"
   },
   {
    "duration": 156,
    "start_time": "2024-12-02T01:22:50.584Z"
   },
   {
    "duration": 2435,
    "start_time": "2024-12-02T01:23:00.363Z"
   },
   {
    "duration": 40,
    "start_time": "2024-12-02T01:23:02.800Z"
   },
   {
    "duration": 15,
    "start_time": "2024-12-02T01:23:02.843Z"
   },
   {
    "duration": 3,
    "start_time": "2024-12-02T01:23:02.863Z"
   },
   {
    "duration": 11,
    "start_time": "2024-12-02T01:23:02.869Z"
   },
   {
    "duration": 11,
    "start_time": "2024-12-02T01:23:02.882Z"
   },
   {
    "duration": 11,
    "start_time": "2024-12-02T01:23:02.909Z"
   },
   {
    "duration": 11,
    "start_time": "2024-12-02T01:23:02.922Z"
   },
   {
    "duration": 11,
    "start_time": "2024-12-02T01:23:02.934Z"
   },
   {
    "duration": 13,
    "start_time": "2024-12-02T01:23:02.947Z"
   },
   {
    "duration": 5,
    "start_time": "2024-12-02T01:23:02.962Z"
   },
   {
    "duration": 49,
    "start_time": "2024-12-02T01:23:02.969Z"
   },
   {
    "duration": 11,
    "start_time": "2024-12-02T01:23:03.019Z"
   },
   {
    "duration": 15,
    "start_time": "2024-12-02T01:23:03.034Z"
   },
   {
    "duration": 2,
    "start_time": "2024-12-02T01:23:03.051Z"
   },
   {
    "duration": 282,
    "start_time": "2024-12-02T01:23:03.055Z"
   },
   {
    "duration": 204,
    "start_time": "2024-12-02T01:23:03.339Z"
   },
   {
    "duration": 4,
    "start_time": "2024-12-02T01:23:03.545Z"
   },
   {
    "duration": 19,
    "start_time": "2024-12-02T01:23:03.551Z"
   },
   {
    "duration": 400,
    "start_time": "2024-12-02T01:23:03.572Z"
   },
   {
    "duration": 12,
    "start_time": "2024-12-02T01:23:03.974Z"
   },
   {
    "duration": 4,
    "start_time": "2024-12-02T01:23:03.988Z"
   },
   {
    "duration": 14,
    "start_time": "2024-12-02T01:23:04.009Z"
   },
   {
    "duration": 349,
    "start_time": "2024-12-02T01:23:04.025Z"
   },
   {
    "duration": 8,
    "start_time": "2024-12-02T01:23:04.376Z"
   },
   {
    "duration": 4,
    "start_time": "2024-12-02T01:23:04.386Z"
   },
   {
    "duration": 15,
    "start_time": "2024-12-02T01:23:04.408Z"
   },
   {
    "duration": 141,
    "start_time": "2024-12-02T01:23:04.425Z"
   },
   {
    "duration": 85,
    "start_time": "2024-12-02T01:23:04.568Z"
   },
   {
    "duration": 88,
    "start_time": "2024-12-02T01:23:04.655Z"
   },
   {
    "duration": 132,
    "start_time": "2024-12-02T01:23:04.745Z"
   },
   {
    "duration": 11,
    "start_time": "2024-12-02T01:23:58.480Z"
   },
   {
    "duration": 12,
    "start_time": "2024-12-02T01:24:31.741Z"
   },
   {
    "duration": 117,
    "start_time": "2024-12-02T01:33:16.003Z"
   },
   {
    "duration": 137,
    "start_time": "2024-12-02T01:36:17.010Z"
   },
   {
    "duration": 115,
    "start_time": "2024-12-02T01:40:09.276Z"
   },
   {
    "duration": 305,
    "start_time": "2024-12-02T01:55:47.505Z"
   },
   {
    "duration": 104,
    "start_time": "2024-12-02T01:59:42.338Z"
   },
   {
    "duration": 11,
    "start_time": "2024-12-02T01:59:46.041Z"
   },
   {
    "duration": 13,
    "start_time": "2024-12-02T02:00:34.520Z"
   },
   {
    "duration": 6,
    "start_time": "2024-12-02T02:00:43.046Z"
   },
   {
    "duration": 114,
    "start_time": "2024-12-02T02:03:33.712Z"
   },
   {
    "duration": 148,
    "start_time": "2024-12-02T02:03:47.661Z"
   },
   {
    "duration": 16,
    "start_time": "2024-12-02T02:05:16.000Z"
   },
   {
    "duration": 158,
    "start_time": "2024-12-02T02:05:31.488Z"
   },
   {
    "duration": 2545,
    "start_time": "2024-12-02T03:21:25.719Z"
   },
   {
    "duration": 35,
    "start_time": "2024-12-02T03:21:28.266Z"
   },
   {
    "duration": 17,
    "start_time": "2024-12-02T03:21:28.303Z"
   },
   {
    "duration": 4,
    "start_time": "2024-12-02T03:21:28.323Z"
   },
   {
    "duration": 10,
    "start_time": "2024-12-02T03:21:28.328Z"
   },
   {
    "duration": 12,
    "start_time": "2024-12-02T03:21:28.340Z"
   },
   {
    "duration": 12,
    "start_time": "2024-12-02T03:21:28.353Z"
   },
   {
    "duration": 40,
    "start_time": "2024-12-02T03:21:28.366Z"
   },
   {
    "duration": 13,
    "start_time": "2024-12-02T03:21:28.408Z"
   },
   {
    "duration": 16,
    "start_time": "2024-12-02T03:21:28.425Z"
   },
   {
    "duration": 7,
    "start_time": "2024-12-02T03:21:28.442Z"
   },
   {
    "duration": 14,
    "start_time": "2024-12-02T03:21:28.450Z"
   },
   {
    "duration": 41,
    "start_time": "2024-12-02T03:21:28.465Z"
   },
   {
    "duration": 16,
    "start_time": "2024-12-02T03:21:28.508Z"
   },
   {
    "duration": 3,
    "start_time": "2024-12-02T03:21:28.526Z"
   },
   {
    "duration": 276,
    "start_time": "2024-12-02T03:21:28.531Z"
   },
   {
    "duration": 214,
    "start_time": "2024-12-02T03:21:28.808Z"
   },
   {
    "duration": 5,
    "start_time": "2024-12-02T03:21:29.023Z"
   },
   {
    "duration": 19,
    "start_time": "2024-12-02T03:21:29.029Z"
   },
   {
    "duration": 455,
    "start_time": "2024-12-02T03:21:29.050Z"
   },
   {
    "duration": 15,
    "start_time": "2024-12-02T03:21:29.507Z"
   },
   {
    "duration": 4,
    "start_time": "2024-12-02T03:21:29.525Z"
   },
   {
    "duration": 16,
    "start_time": "2024-12-02T03:21:29.531Z"
   },
   {
    "duration": 330,
    "start_time": "2024-12-02T03:21:29.548Z"
   },
   {
    "duration": 7,
    "start_time": "2024-12-02T03:21:29.881Z"
   },
   {
    "duration": 19,
    "start_time": "2024-12-02T03:21:29.890Z"
   },
   {
    "duration": 18,
    "start_time": "2024-12-02T03:21:29.911Z"
   },
   {
    "duration": 147,
    "start_time": "2024-12-02T03:21:29.933Z"
   },
   {
    "duration": 90,
    "start_time": "2024-12-02T03:21:30.082Z"
   },
   {
    "duration": 95,
    "start_time": "2024-12-02T03:21:30.174Z"
   },
   {
    "duration": 10,
    "start_time": "2024-12-02T03:21:30.271Z"
   },
   {
    "duration": 135,
    "start_time": "2024-12-02T03:21:30.283Z"
   },
   {
    "duration": 141,
    "start_time": "2024-12-02T03:21:30.420Z"
   },
   {
    "duration": 343,
    "start_time": "2024-12-02T03:21:30.563Z"
   },
   {
    "duration": 154,
    "start_time": "2024-12-02T03:21:30.908Z"
   },
   {
    "duration": 10,
    "start_time": "2024-12-02T03:22:36.090Z"
   },
   {
    "duration": 13,
    "start_time": "2024-12-02T03:22:43.060Z"
   },
   {
    "duration": 6,
    "start_time": "2024-12-02T03:26:04.935Z"
   },
   {
    "duration": 7,
    "start_time": "2024-12-02T03:26:17.618Z"
   },
   {
    "duration": 236,
    "start_time": "2024-12-02T03:29:31.284Z"
   },
   {
    "duration": 10,
    "start_time": "2024-12-02T03:29:42.608Z"
   },
   {
    "duration": 10,
    "start_time": "2024-12-02T03:31:58.480Z"
   },
   {
    "duration": 7,
    "start_time": "2024-12-02T03:33:34.097Z"
   },
   {
    "duration": 10,
    "start_time": "2024-12-02T03:34:54.823Z"
   },
   {
    "duration": 12,
    "start_time": "2024-12-02T03:37:31.597Z"
   },
   {
    "duration": 22,
    "start_time": "2024-12-02T03:39:56.677Z"
   },
   {
    "duration": 12,
    "start_time": "2024-12-02T03:40:51.041Z"
   },
   {
    "duration": 13,
    "start_time": "2024-12-02T03:48:29.906Z"
   },
   {
    "duration": 11,
    "start_time": "2024-12-02T03:53:19.163Z"
   },
   {
    "duration": 793,
    "start_time": "2024-12-02T03:55:36.520Z"
   },
   {
    "duration": 26,
    "start_time": "2024-12-02T03:55:37.316Z"
   },
   {
    "duration": 17,
    "start_time": "2024-12-02T03:55:37.343Z"
   },
   {
    "duration": 4,
    "start_time": "2024-12-02T03:55:37.363Z"
   },
   {
    "duration": 37,
    "start_time": "2024-12-02T03:55:37.368Z"
   },
   {
    "duration": 14,
    "start_time": "2024-12-02T03:55:37.407Z"
   },
   {
    "duration": 12,
    "start_time": "2024-12-02T03:55:37.423Z"
   },
   {
    "duration": 12,
    "start_time": "2024-12-02T03:55:37.436Z"
   },
   {
    "duration": 11,
    "start_time": "2024-12-02T03:55:37.450Z"
   },
   {
    "duration": 40,
    "start_time": "2024-12-02T03:55:37.465Z"
   },
   {
    "duration": 6,
    "start_time": "2024-12-02T03:55:37.507Z"
   },
   {
    "duration": 12,
    "start_time": "2024-12-02T03:55:37.515Z"
   },
   {
    "duration": 10,
    "start_time": "2024-12-02T03:55:37.529Z"
   },
   {
    "duration": 15,
    "start_time": "2024-12-02T03:55:37.541Z"
   },
   {
    "duration": 4,
    "start_time": "2024-12-02T03:55:37.557Z"
   },
   {
    "duration": 297,
    "start_time": "2024-12-02T03:55:37.563Z"
   },
   {
    "duration": 204,
    "start_time": "2024-12-02T03:55:37.865Z"
   },
   {
    "duration": 4,
    "start_time": "2024-12-02T03:55:38.071Z"
   },
   {
    "duration": 82,
    "start_time": "2024-12-02T03:55:38.077Z"
   },
   {
    "duration": 366,
    "start_time": "2024-12-02T03:55:38.161Z"
   },
   {
    "duration": 12,
    "start_time": "2024-12-02T03:55:38.529Z"
   },
   {
    "duration": 4,
    "start_time": "2024-12-02T03:55:38.542Z"
   },
   {
    "duration": 13,
    "start_time": "2024-12-02T03:55:38.548Z"
   },
   {
    "duration": 326,
    "start_time": "2024-12-02T03:55:38.563Z"
   },
   {
    "duration": 15,
    "start_time": "2024-12-02T03:55:38.891Z"
   },
   {
    "duration": 7,
    "start_time": "2024-12-02T03:55:38.909Z"
   },
   {
    "duration": 17,
    "start_time": "2024-12-02T03:55:38.919Z"
   },
   {
    "duration": 150,
    "start_time": "2024-12-02T03:55:38.941Z"
   },
   {
    "duration": 85,
    "start_time": "2024-12-02T03:55:39.093Z"
   },
   {
    "duration": 89,
    "start_time": "2024-12-02T03:55:39.179Z"
   },
   {
    "duration": 11,
    "start_time": "2024-12-02T03:55:39.270Z"
   },
   {
    "duration": 137,
    "start_time": "2024-12-02T03:55:39.283Z"
   },
   {
    "duration": 193,
    "start_time": "2024-12-02T03:55:39.422Z"
   },
   {
    "duration": 244,
    "start_time": "2024-12-02T03:55:39.617Z"
   },
   {
    "duration": 165,
    "start_time": "2024-12-02T03:55:39.863Z"
   },
   {
    "duration": 12,
    "start_time": "2024-12-02T03:55:40.030Z"
   },
   {
    "duration": 11,
    "start_time": "2024-12-02T03:55:40.043Z"
   },
   {
    "duration": 3,
    "start_time": "2024-12-02T03:55:40.055Z"
   },
   {
    "duration": 6,
    "start_time": "2024-12-02T04:00:28.503Z"
   },
   {
    "duration": 5,
    "start_time": "2024-12-02T04:00:35.099Z"
   },
   {
    "duration": 9,
    "start_time": "2024-12-02T04:00:49.074Z"
   },
   {
    "duration": 8,
    "start_time": "2024-12-02T04:07:02.492Z"
   },
   {
    "duration": 9,
    "start_time": "2024-12-02T04:07:20.407Z"
   },
   {
    "duration": 11,
    "start_time": "2024-12-02T04:08:03.015Z"
   },
   {
    "duration": 8,
    "start_time": "2024-12-02T04:12:18.456Z"
   },
   {
    "duration": 13,
    "start_time": "2024-12-02T04:13:09.750Z"
   },
   {
    "duration": 9,
    "start_time": "2024-12-02T04:13:36.462Z"
   },
   {
    "duration": 11,
    "start_time": "2024-12-02T04:14:49.583Z"
   },
   {
    "duration": 9,
    "start_time": "2024-12-02T04:15:56.962Z"
   },
   {
    "duration": 9,
    "start_time": "2024-12-02T04:20:38.327Z"
   },
   {
    "duration": 10,
    "start_time": "2024-12-02T04:21:27.907Z"
   },
   {
    "duration": 797,
    "start_time": "2024-12-02T04:29:09.825Z"
   },
   {
    "duration": 25,
    "start_time": "2024-12-02T04:29:10.624Z"
   },
   {
    "duration": 17,
    "start_time": "2024-12-02T04:29:10.651Z"
   },
   {
    "duration": 5,
    "start_time": "2024-12-02T04:29:10.669Z"
   },
   {
    "duration": 38,
    "start_time": "2024-12-02T04:29:10.676Z"
   },
   {
    "duration": 13,
    "start_time": "2024-12-02T04:29:10.716Z"
   },
   {
    "duration": 15,
    "start_time": "2024-12-02T04:29:10.730Z"
   },
   {
    "duration": 13,
    "start_time": "2024-12-02T04:29:10.746Z"
   },
   {
    "duration": 12,
    "start_time": "2024-12-02T04:29:10.761Z"
   },
   {
    "duration": 15,
    "start_time": "2024-12-02T04:29:10.805Z"
   },
   {
    "duration": 6,
    "start_time": "2024-12-02T04:29:10.822Z"
   },
   {
    "duration": 14,
    "start_time": "2024-12-02T04:29:10.830Z"
   },
   {
    "duration": 12,
    "start_time": "2024-12-02T04:29:10.846Z"
   },
   {
    "duration": 51,
    "start_time": "2024-12-02T04:29:10.863Z"
   },
   {
    "duration": 4,
    "start_time": "2024-12-02T04:29:10.915Z"
   },
   {
    "duration": 281,
    "start_time": "2024-12-02T04:29:10.921Z"
   },
   {
    "duration": 205,
    "start_time": "2024-12-02T04:29:11.203Z"
   },
   {
    "duration": 4,
    "start_time": "2024-12-02T04:29:11.409Z"
   },
   {
    "duration": 90,
    "start_time": "2024-12-02T04:29:11.415Z"
   },
   {
    "duration": 391,
    "start_time": "2024-12-02T04:29:11.507Z"
   },
   {
    "duration": 11,
    "start_time": "2024-12-02T04:29:11.905Z"
   },
   {
    "duration": 4,
    "start_time": "2024-12-02T04:29:11.919Z"
   },
   {
    "duration": 14,
    "start_time": "2024-12-02T04:29:11.925Z"
   },
   {
    "duration": 339,
    "start_time": "2024-12-02T04:29:11.941Z"
   },
   {
    "duration": 8,
    "start_time": "2024-12-02T04:29:12.282Z"
   },
   {
    "duration": 18,
    "start_time": "2024-12-02T04:29:12.292Z"
   },
   {
    "duration": 16,
    "start_time": "2024-12-02T04:29:12.313Z"
   },
   {
    "duration": 163,
    "start_time": "2024-12-02T04:29:12.331Z"
   },
   {
    "duration": 91,
    "start_time": "2024-12-02T04:29:12.496Z"
   },
   {
    "duration": 95,
    "start_time": "2024-12-02T04:29:12.589Z"
   },
   {
    "duration": 31,
    "start_time": "2024-12-02T04:29:12.686Z"
   },
   {
    "duration": 136,
    "start_time": "2024-12-02T04:29:12.719Z"
   },
   {
    "duration": 195,
    "start_time": "2024-12-02T04:29:12.856Z"
   },
   {
    "duration": 245,
    "start_time": "2024-12-02T04:29:13.054Z"
   },
   {
    "duration": 152,
    "start_time": "2024-12-02T04:29:13.306Z"
   },
   {
    "duration": 12,
    "start_time": "2024-12-02T04:29:13.460Z"
   },
   {
    "duration": 11,
    "start_time": "2024-12-02T04:29:13.474Z"
   },
   {
    "duration": 3,
    "start_time": "2024-12-02T04:29:13.504Z"
   },
   {
    "duration": 10,
    "start_time": "2024-12-02T04:29:13.510Z"
   },
   {
    "duration": 10,
    "start_time": "2024-12-02T04:29:13.522Z"
   },
   {
    "duration": 2486,
    "start_time": "2024-12-04T02:09:19.453Z"
   },
   {
    "duration": 37,
    "start_time": "2024-12-04T02:09:21.941Z"
   },
   {
    "duration": 16,
    "start_time": "2024-12-04T02:09:21.979Z"
   },
   {
    "duration": 3,
    "start_time": "2024-12-04T02:09:21.997Z"
   },
   {
    "duration": 11,
    "start_time": "2024-12-04T02:09:22.002Z"
   },
   {
    "duration": 12,
    "start_time": "2024-12-04T02:09:22.014Z"
   },
   {
    "duration": 11,
    "start_time": "2024-12-04T02:09:22.028Z"
   },
   {
    "duration": 38,
    "start_time": "2024-12-04T02:09:22.040Z"
   },
   {
    "duration": 11,
    "start_time": "2024-12-04T02:09:22.080Z"
   },
   {
    "duration": 13,
    "start_time": "2024-12-04T02:09:22.094Z"
   },
   {
    "duration": 6,
    "start_time": "2024-12-04T02:09:22.108Z"
   },
   {
    "duration": 12,
    "start_time": "2024-12-04T02:09:22.115Z"
   },
   {
    "duration": 43,
    "start_time": "2024-12-04T02:09:22.128Z"
   },
   {
    "duration": 16,
    "start_time": "2024-12-04T02:09:22.173Z"
   },
   {
    "duration": 3,
    "start_time": "2024-12-04T02:09:22.191Z"
   },
   {
    "duration": 267,
    "start_time": "2024-12-04T02:09:22.196Z"
   },
   {
    "duration": 203,
    "start_time": "2024-12-04T02:09:22.469Z"
   },
   {
    "duration": 5,
    "start_time": "2024-12-04T02:09:22.673Z"
   },
   {
    "duration": 19,
    "start_time": "2024-12-04T02:09:22.679Z"
   },
   {
    "duration": 507,
    "start_time": "2024-12-04T02:09:22.699Z"
   },
   {
    "duration": 12,
    "start_time": "2024-12-04T02:09:23.208Z"
   },
   {
    "duration": 4,
    "start_time": "2024-12-04T02:09:23.221Z"
   },
   {
    "duration": 14,
    "start_time": "2024-12-04T02:09:23.227Z"
   },
   {
    "duration": 317,
    "start_time": "2024-12-04T02:09:23.243Z"
   },
   {
    "duration": 12,
    "start_time": "2024-12-04T02:09:23.563Z"
   },
   {
    "duration": 5,
    "start_time": "2024-12-04T02:09:23.576Z"
   },
   {
    "duration": 15,
    "start_time": "2024-12-04T02:09:23.583Z"
   },
   {
    "duration": 154,
    "start_time": "2024-12-04T02:09:23.602Z"
   },
   {
    "duration": 86,
    "start_time": "2024-12-04T02:09:23.758Z"
   },
   {
    "duration": 112,
    "start_time": "2024-12-04T02:09:23.845Z"
   },
   {
    "duration": 19,
    "start_time": "2024-12-04T02:09:23.959Z"
   },
   {
    "duration": 127,
    "start_time": "2024-12-04T02:09:23.981Z"
   },
   {
    "duration": 128,
    "start_time": "2024-12-04T02:09:24.110Z"
   },
   {
    "duration": 301,
    "start_time": "2024-12-04T02:09:24.240Z"
   },
   {
    "duration": 146,
    "start_time": "2024-12-04T02:09:24.543Z"
   },
   {
    "duration": 11,
    "start_time": "2024-12-04T02:09:24.691Z"
   },
   {
    "duration": 10,
    "start_time": "2024-12-04T02:09:24.704Z"
   },
   {
    "duration": 3,
    "start_time": "2024-12-04T02:09:24.715Z"
   },
   {
    "duration": 10,
    "start_time": "2024-12-04T02:09:24.719Z"
   },
   {
    "duration": 39,
    "start_time": "2024-12-04T02:09:24.731Z"
   },
   {
    "duration": 6,
    "start_time": "2024-12-04T02:10:31.607Z"
   },
   {
    "duration": 11,
    "start_time": "2024-12-04T02:10:40.224Z"
   },
   {
    "duration": 225,
    "start_time": "2024-12-04T02:15:05.378Z"
   },
   {
    "duration": 14,
    "start_time": "2024-12-04T02:16:30.616Z"
   },
   {
    "duration": 10,
    "start_time": "2024-12-04T02:19:10.686Z"
   },
   {
    "duration": 11,
    "start_time": "2024-12-04T02:21:39.472Z"
   },
   {
    "duration": 11,
    "start_time": "2024-12-04T02:22:42.753Z"
   },
   {
    "duration": 757,
    "start_time": "2024-12-04T02:24:07.810Z"
   },
   {
    "duration": 24,
    "start_time": "2024-12-04T02:24:08.569Z"
   },
   {
    "duration": 16,
    "start_time": "2024-12-04T02:24:08.595Z"
   },
   {
    "duration": 4,
    "start_time": "2024-12-04T02:24:08.613Z"
   },
   {
    "duration": 9,
    "start_time": "2024-12-04T02:24:08.620Z"
   },
   {
    "duration": 12,
    "start_time": "2024-12-04T02:24:08.631Z"
   },
   {
    "duration": 12,
    "start_time": "2024-12-04T02:24:08.671Z"
   },
   {
    "duration": 13,
    "start_time": "2024-12-04T02:24:08.685Z"
   },
   {
    "duration": 13,
    "start_time": "2024-12-04T02:24:08.699Z"
   },
   {
    "duration": 14,
    "start_time": "2024-12-04T02:24:08.714Z"
   },
   {
    "duration": 5,
    "start_time": "2024-12-04T02:24:08.730Z"
   },
   {
    "duration": 45,
    "start_time": "2024-12-04T02:24:08.738Z"
   },
   {
    "duration": 13,
    "start_time": "2024-12-04T02:24:08.787Z"
   },
   {
    "duration": 15,
    "start_time": "2024-12-04T02:24:08.803Z"
   },
   {
    "duration": 3,
    "start_time": "2024-12-04T02:24:08.820Z"
   },
   {
    "duration": 274,
    "start_time": "2024-12-04T02:24:08.825Z"
   },
   {
    "duration": 202,
    "start_time": "2024-12-04T02:24:09.101Z"
   },
   {
    "duration": 5,
    "start_time": "2024-12-04T02:24:09.305Z"
   },
   {
    "duration": 81,
    "start_time": "2024-12-04T02:24:09.311Z"
   },
   {
    "duration": 370,
    "start_time": "2024-12-04T02:24:09.394Z"
   },
   {
    "duration": 14,
    "start_time": "2024-12-04T02:24:09.766Z"
   },
   {
    "duration": 4,
    "start_time": "2024-12-04T02:24:09.781Z"
   },
   {
    "duration": 13,
    "start_time": "2024-12-04T02:24:09.786Z"
   },
   {
    "duration": 325,
    "start_time": "2024-12-04T02:24:09.801Z"
   },
   {
    "duration": 7,
    "start_time": "2024-12-04T02:24:10.127Z"
   },
   {
    "duration": 5,
    "start_time": "2024-12-04T02:24:10.136Z"
   },
   {
    "duration": 33,
    "start_time": "2024-12-04T02:24:10.143Z"
   },
   {
    "duration": 142,
    "start_time": "2024-12-04T02:24:10.178Z"
   },
   {
    "duration": 94,
    "start_time": "2024-12-04T02:24:10.321Z"
   },
   {
    "duration": 90,
    "start_time": "2024-12-04T02:24:10.417Z"
   },
   {
    "duration": 10,
    "start_time": "2024-12-04T02:24:10.509Z"
   },
   {
    "duration": 130,
    "start_time": "2024-12-04T02:24:10.521Z"
   },
   {
    "duration": 182,
    "start_time": "2024-12-04T02:24:10.653Z"
   },
   {
    "duration": 239,
    "start_time": "2024-12-04T02:24:10.837Z"
   },
   {
    "duration": 148,
    "start_time": "2024-12-04T02:24:11.078Z"
   },
   {
    "duration": 12,
    "start_time": "2024-12-04T02:24:11.228Z"
   },
   {
    "duration": 11,
    "start_time": "2024-12-04T02:24:11.242Z"
   },
   {
    "duration": 17,
    "start_time": "2024-12-04T02:24:11.254Z"
   },
   {
    "duration": 10,
    "start_time": "2024-12-04T02:24:11.273Z"
   },
   {
    "duration": 12,
    "start_time": "2024-12-04T02:24:11.285Z"
   }
  ],
  "kernelspec": {
   "display_name": "Python 3",
   "language": "python",
   "name": "python3"
  },
  "language_info": {
   "codemirror_mode": {
    "name": "ipython",
    "version": 3
   },
   "file_extension": ".py",
   "mimetype": "text/x-python",
   "name": "python",
   "nbconvert_exporter": "python",
   "pygments_lexer": "ipython3",
   "version": "3.12.6"
  },
  "toc": {
   "base_numbering": 1,
   "nav_menu": {},
   "number_sections": true,
   "sideBar": true,
   "skip_h1_title": true,
   "title_cell": "Table of Contents",
   "title_sidebar": "Contents",
   "toc_cell": false,
   "toc_position": {},
   "toc_section_display": true,
   "toc_window_display": false
  }
 },
 "nbformat": 4,
 "nbformat_minor": 2
}
